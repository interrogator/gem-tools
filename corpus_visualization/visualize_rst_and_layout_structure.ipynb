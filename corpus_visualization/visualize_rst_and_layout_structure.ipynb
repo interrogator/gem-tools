{
 "cells": [
  {
   "cell_type": "markdown",
   "metadata": {},
   "source": [
    "# Visualizing RST and layout structures in GeM corpora\n",
    "\n",
    "This Jupyter notebook is intended for visualizing discourse structures in multimodal documents, as described using <a href=\"http://www.sfu.ca/rst/\">Rhetorical Structure Theory</a> and annotated using the schema provided by the <a href=\"http://www.fb10.uni-bremen.de/anglistik/langpro/projects/gem/newframe.html\">Genre and Multimodality</a> model.\n",
    "\n",
    "For visualizing the RST and layout structures, you need valid XML files for base, RST and layout layers. The content is retrieved from the base layer, before drawing out the rhetorical relations between the content and organizing it into the hierarchy defined in the layout structure."
   ]
  },
  {
   "cell_type": "markdown",
   "metadata": {},
   "source": [
    "## 1. Import the necessary packages."
   ]
  },
  {
   "cell_type": "code",
   "execution_count": 1,
   "metadata": {
    "collapsed": true
   },
   "outputs": [],
   "source": [
    "# For parsing XML\n",
    "from lxml import etree as et\n",
    "\n",
    "# For formatting the content\n",
    "import textwrap\n",
    "import codecs\n",
    "\n",
    "# For testing\n",
    "from IPython.display import Image"
   ]
  },
  {
   "cell_type": "markdown",
   "metadata": {},
   "source": [
    "Check GraphViz installation."
   ]
  },
  {
   "cell_type": "code",
   "execution_count": 2,
   "metadata": {
    "collapsed": false
   },
   "outputs": [
    {
     "name": "stdout",
     "output_type": "stream",
     "text": [
      "Graphviz/DOT found ...\n"
     ]
    }
   ],
   "source": [
    "graphviz_installed = !which dot\n",
    "if graphviz_installed == '':\n",
    "    print \"Graphviz/DOT not found. Exiting ...\"\n",
    "    quit()\n",
    "else:\n",
    "    print \"Graphviz/DOT found ...\""
   ]
  },
  {
   "cell_type": "markdown",
   "metadata": {},
   "source": [
    "## 2. Parse the GeM XML files."
   ]
  },
  {
   "cell_type": "markdown",
   "metadata": {},
   "source": [
    "Define the base and RST files below."
   ]
  },
  {
   "cell_type": "code",
   "execution_count": 3,
   "metadata": {
    "collapsed": true
   },
   "outputs": [],
   "source": [
    "basefile = 'test_xml/2002-she-base-1.xml' # Base layer\n",
    "rstfile = 'test_xml/2002-she-rst-1.xml' # RST layer\n",
    "layoutfile = 'test_xml/2002-she-layout-1.xml' # Layout layer"
   ]
  },
  {
   "cell_type": "markdown",
   "metadata": {},
   "source": [
    "Define a function to parse the XML files."
   ]
  },
  {
   "cell_type": "code",
   "execution_count": 4,
   "metadata": {
    "collapsed": true
   },
   "outputs": [],
   "source": [
    "def parse_xml(basefile, rstfile, layoutfile):\n",
    "    \n",
    "    ##### PARSE BASE UNITS #####\n",
    "    \n",
    "    base_units = {} # Set up a dictionary for the base units\n",
    "    baseroot = et.parse(basefile).getroot() # Parse the XML file and get XML root\n",
    "    for unit in baseroot.findall('.//unit'):\n",
    "        unit_id = unit.attrib['id']\n",
    "        if 'alt' in unit.attrib:\n",
    "            unit_content = unit.attrib['alt'], ', fontsize=\"12.0\", shape=\"box\"];\\n'\n",
    "        else:\n",
    "            unit_content = textwrap.fill(''.join(unit.itertext()), 35).replace(\"\\\"\", \"'\"), ', fontsize=\"12.0\", shape=\"box\", style=\"filled\", color=\"white\"];\\n'\n",
    "        base_units[unit_id] = unit_content # Populate dictionary with key (id) and value (content) pairs\n",
    "            \n",
    "    rst_segments = {} # Set up a dictionary for the RST units\n",
    "    rst_base_mapping = {} # Set up a dictionary for mapping the RST units to the base units\n",
    "    rstroot = et.parse(rstfile).getroot()\n",
    "    \n",
    "    ##### PARSE RST UNITS #####\n",
    "    \n",
    "    for rst_segment in rstroot.findall('.//segment'):\n",
    "        rst_segment_id, rst_segment_xref = rst_segment.attrib['id'], rst_segment.attrib['xref']\n",
    "        rst_segment_content = base_units[rst_segment_xref]\n",
    "        rst_segments[rst_segment_id] = rst_segment_content\n",
    "        rst_base_mapping[rst_segment_xref] = rst_segment_id\n",
    "        \n",
    "    for mini_segment in rstroot.findall('.//mini-segment'):\n",
    "        mini_segment_id, mini_segment_xref = mini_segment.attrib['id'], mini_segment.attrib['xref']\n",
    "        mini_segment_content = base_units[mini_segment_xref]\n",
    "        rst_segments[mini_segment_id] = mini_segment_content\n",
    "        rst_base_mapping[mini_segment_xref] = mini_segment_id\n",
    "    \n",
    "    rst_segment_span_mapping = {}\n",
    "    rst_relations = {}\n",
    "\n",
    "    for rst_structure in rstroot.findall('rst-structure'):\n",
    "        for span in rst_structure.getchildren():\n",
    "            rst_relations[span.attrib['id']] = span.attrib['relation'].upper(), ', fontcolor=\"crimson\", fontsize=\"10.0\", shape=\"plaintext\"];\\n'\n",
    "            if span.tag == 'span':\n",
    "                rst_segment_span_mapping[span.attrib['id']] = span.attrib['nucleus'].split(), span.attrib['satellites'].split()\n",
    "            if span.tag == 'multi-span':\n",
    "                rst_segment_span_mapping[span.attrib['id']] = span.attrib['nuclei'].split()\n",
    "            if span.tag == 'mini-span':\n",
    "                rst_segment_span_mapping[span.attrib['id']] = span.attrib['attribuend'].split(), span.attrib['attribute'].split()\n",
    "    \n",
    "    ##### PARSE LAYOUT UNITS #####\n",
    "\n",
    "    layout_units = {} # Set up a dictionary for the layout units\n",
    "    layoutroot = et.parse(layoutfile).getroot()\n",
    "\n",
    "    for layout_unit in layoutroot.xpath('.//segmentation/layout-unit'): # Use XPath to skip nested layout units\n",
    "        layout_unit_id = layout_unit.attrib['id']\n",
    "        layout_unit_xref = layout_unit.attrib['xref'].split()\n",
    "        layout_units[layout_unit_id] = layout_unit_xref\n",
    "\n",
    "    ##### Parse the layout leafs ##### \n",
    "    \n",
    "#    for layout_leaf in layoutroot.iter('layout-leaf'):\n",
    "#        xref, layout_chunk, base_units = layout_leaf.attrib['xref'], layout_leaf.getparent().attrib['id'], layout_units[layout_leaf.attrib['xref']]\n",
    "#        layout_units[xref] = base_units, layout_chunk\n",
    "    \n",
    "    return rst_segments, rst_relations, rst_base_mapping, rst_segment_span_mapping, rstroot, layout_units, layoutroot"
   ]
  },
  {
   "cell_type": "code",
   "execution_count": 5,
   "metadata": {
    "collapsed": false
   },
   "outputs": [],
   "source": [
    "rst_segments, rst_relations, rst_base_mapping, rst_segment_span_mapping, rstroot, layout_units, layoutroot = parse_xml(basefile, rstfile, layoutfile)"
   ]
  },
  {
   "cell_type": "markdown",
   "metadata": {},
   "source": [
    "## 3. Draw the RST graph."
   ]
  },
  {
   "cell_type": "markdown",
   "metadata": {},
   "source": [
    "Open a file for the graph; use UTF-8 encoding. Set up the beginning and the end of the graph."
   ]
  },
  {
   "cell_type": "code",
   "execution_count": 6,
   "metadata": {
    "collapsed": false
   },
   "outputs": [],
   "source": [
    "graph = codecs.open('rst_layout_graph.gv', 'w', 'utf-8')\n",
    "\n",
    "begin_graph = 'digraph \"rstgraph\" { graph [rankdir=\"BT\"];\\n'\n",
    "terminate_graph = '}\\n'"
   ]
  },
  {
   "cell_type": "markdown",
   "metadata": {},
   "source": [
    "Begin writing the graph."
   ]
  },
  {
   "cell_type": "code",
   "execution_count": 34,
   "metadata": {
    "collapsed": false
   },
   "outputs": [
    {
     "name": "stdout",
     "output_type": "stream",
     "text": [
      "\tsubgraph  cluster 0  {\n",
      "label = \" page-10 \";\n",
      "\n",
      "\tsubgraph  cluster 1  {\n",
      "label = \" page-11 \";\n",
      "\n",
      "\tsubgraph  cluster 2  {\n",
      "label = \" chapter-title \";\n",
      "\n",
      "\tsubgraph  cluster 3  {\n",
      "label = \" section-title-and-description \";\n",
      "\n",
      "\" s-10.04 \" ->  \" span-10.02 \"\t [dir=\"back\"];\n",
      "\n",
      "\" s-10.05 \" ->  \" span-10.03 \"\t [dir=\"back\"];\n",
      "\n",
      "\tsubgraph  cluster 4  {\n",
      "label = \" page-11-entry-1 \";\n",
      "\n",
      "\" s-10.08 \" ->  \" span-10.06 \"\t [dir=\"back\"];\n",
      "\n",
      "\" s-10.11 \" ->  \" span-10.08 \"\t [dir=\"back\"];\n",
      "\n"
     ]
    }
   ],
   "source": [
    "##### NEW TEST #####\n",
    "\n",
    "graph.write(begin_graph)\n",
    "\n",
    "for number, subgraph in enumerate(layoutroot.xpath('.//*/../layout-chunk[@id]')):\n",
    "    subgraph_id = subgraph.attrib['id']\n",
    "    print '\\tsubgraph ', 'cluster', str(number), ' {\\n', 'label = \"', subgraph_id, '\";\\n' # For testing\n",
    "    write_chunk = '\\tsubgraph ', 'cluster', str(number), ' {\\n', 'label = \"', subgraph_id, '\";\\n'\n",
    "    graph.write(\"\".join(write_chunk))\n",
    "\n",
    "    # XPath expression for finding the identified chunks in the layout structure and their layout-leaf children   \n",
    "    chunk_xpath = './/layout-chunk[@id=\"' + subgraph_id + '\"]/layout-leaf[@xref]'\n",
    "    # Loop over the layout leafs under the chunk ...\n",
    "    for leafs in layoutroot.xpath('%s' % chunk_xpath):\n",
    "        # ... and fetch the matching RST segments.\n",
    "        for xref in layout_units[leafs.attrib['xref']]:\n",
    "            # Exclude layout units not participating in RST structure\n",
    "            if xref in rst_base_mapping:\n",
    "                rst_segment = rst_base_mapping[xref]\n",
    "                # Add edges for nucleus\n",
    "                span_xpath = './/*[@nucleus=\"' + rst_segment + '\"]/@id'\n",
    "                for rst_span in rstroot.xpath('%s' % span_xpath):\n",
    "                    nucleus_xpath = './/*[@id=\"' + rst_span + '\"]/@nucleus'\n",
    "                    for nucleus in rstroot.xpath('%s' % nucleus_xpath):\n",
    "                        print '\"', nucleus, '\" -> ', '\"', rst_span, '\"\\t [dir=\"back\"];\\n'"
   ]
  },
  {
   "cell_type": "code",
   "execution_count": 41,
   "metadata": {
    "collapsed": false
   },
   "outputs": [
    {
     "ename": "ValueError",
     "evalue": "need more than 1 value to unpack",
     "output_type": "error",
     "traceback": [
      "\u001b[0;31m---------------------------------------------------------------------------\u001b[0m",
      "\u001b[0;31mValueError\u001b[0m                                Traceback (most recent call last)",
      "\u001b[0;32m<ipython-input-41-7dc596c21dfc>\u001b[0m in \u001b[0;36m<module>\u001b[0;34m()\u001b[0m\n\u001b[1;32m      6\u001b[0m     \u001b[0mchunk_id\u001b[0m \u001b[0;34m=\u001b[0m \u001b[0mchunks\u001b[0m\u001b[0;34m.\u001b[0m\u001b[0mattrib\u001b[0m\u001b[0;34m[\u001b[0m\u001b[0;34m'id'\u001b[0m\u001b[0;34m]\u001b[0m \u001b[0;31m# Fetch unique chunk identifier\u001b[0m\u001b[0;34m\u001b[0m\u001b[0m\n\u001b[1;32m      7\u001b[0m     \u001b[0;32mfor\u001b[0m \u001b[0mleaf\u001b[0m \u001b[0;32min\u001b[0m \u001b[0mlayout_units\u001b[0m\u001b[0;34m:\u001b[0m \u001b[0;31m# Loop through layout units\u001b[0m\u001b[0;34m\u001b[0m\u001b[0m\n\u001b[0;32m----> 8\u001b[0;31m         \u001b[0mbase_unit_id\u001b[0m\u001b[0;34m,\u001b[0m \u001b[0mchunk\u001b[0m \u001b[0;34m=\u001b[0m \u001b[0mlayout_units\u001b[0m\u001b[0;34m.\u001b[0m\u001b[0mget\u001b[0m\u001b[0;34m(\u001b[0m\u001b[0mleaf\u001b[0m\u001b[0;34m)\u001b[0m \u001b[0;31m# Unpack layout units tuple\u001b[0m\u001b[0;34m\u001b[0m\u001b[0m\n\u001b[0m\u001b[1;32m      9\u001b[0m         \u001b[0;32mif\u001b[0m \u001b[0mchunk\u001b[0m \u001b[0;34m==\u001b[0m \u001b[0mchunk_id\u001b[0m\u001b[0;34m:\u001b[0m\u001b[0;34m\u001b[0m\u001b[0m\n\u001b[1;32m     10\u001b[0m             \u001b[0;32mfor\u001b[0m \u001b[0mbase_unit\u001b[0m \u001b[0;32min\u001b[0m \u001b[0mbase_unit_id\u001b[0m\u001b[0;34m:\u001b[0m\u001b[0;34m\u001b[0m\u001b[0m\n",
      "\u001b[0;31mValueError\u001b[0m: need more than 1 value to unpack"
     ]
    }
   ],
   "source": [
    "##### EXAMINE THE LAYOUT STRUCTURE ##### \n",
    "\n",
    "# Map the RST segments to the layout chunks\n",
    "rst_layout_chunk_mapping = {}\n",
    "for chunks in layoutroot.findall('.//layout-chunk'): # Find all layout chunks\n",
    "    chunk_id = chunks.attrib['id'] # Fetch unique chunk identifier    \n",
    "    for leaf in layout_units: # Loop through layout units\n",
    "        base_unit_id, chunk = layout_units.get(leaf) # Unpack layout units tuple\n",
    "        if chunk == chunk_id:\n",
    "            for base_unit in base_unit_id:\n",
    "                if base_unit in rst_base_mapping.keys():\n",
    "                    rst_layout_chunk_mapping[rst_base_mapping[base_unit]] = chunk\n",
    "\n",
    "# Print the DOT graph preamble\n",
    "# print begin_graph\n",
    "graph.write(begin_graph)\n",
    "    \n",
    "# Add all RST spans\n",
    "for span in sorted(rst_relations):\n",
    "    relation, style = rst_relations.get(span)\n",
    "    # print '\"', span, '\"\\t[label=\"', relation, '\"', style # For testing\n",
    "    print_span = '\"', span, '\"\\t[label=\"', relation, '\"', style\n",
    "    graph.write(\"\".join(print_span))\n",
    "\n",
    "# Add all RST segments\n",
    "for node in sorted(rst_segments):\n",
    "    content, style = rst_segments.get(node)\n",
    "    # print '\"', node, '\"\\t[label=\"', content, '\"', style # For testing\n",
    "    print_node = '\"', node, '\"\\t[label=\"', content, '\"', style\n",
    "    graph.write(\"\".join(print_node))\n",
    "    \n",
    "# Start writing the subgraphs\n",
    "for number, chunk in enumerate(layoutroot.findall('.//layout-chunk')):\n",
    "\n",
    "    if chunk.attrib['id'] in rst_layout_chunk_mapping.values():\n",
    "        print '\\tsubgraph ', 'cluster', str(number), ' {\\n', 'label = \"', chunk.attrib['id'], '\";\\n' # For testing\n",
    "        print_chunk = '\\tsubgraph ', 'cluster', str(number), ' {\\n', 'label = \"', chunk.attrib['id'], '\";\\n'\n",
    "        graph.write(\"\".join(print_chunk))\n",
    "\n",
    "        for rst_segment, layout_chunk in rst_layout_chunk_mapping.items(): # Split the dictionary\n",
    "            if chunk.attrib['id'] == layout_chunk: # Match chunks\n",
    "                for span in rstroot.findall('.//rst-structure/*'): # Add edges for nuclei\n",
    "                    if span.tag == 'span' and rst_segment in span.attrib['nucleus']:\n",
    "                        nucleus = span.attrib['nucleus'].split()\n",
    "                        for n in nucleus:\n",
    "                            if rst_segment == n:\n",
    "                                print '\"', n, '\" -> ', '\"', span.attrib['id'], '\"\\t [dir=\"back\"];\\n' # For testing\n",
    "                                print_nucleus = '\"', n, '\" -> ', '\"', span.attrib['id'], '\"\\t [dir=\"back\"];\\n'\n",
    "                                graph.write(\"\".join(print_nucleus))\n",
    "                    if span.tag == 'span' and rst_segment in span.attrib['satellites']:\n",
    "                        satellites = span.attrib['satellites'].split()\n",
    "                        for s in satellites:\n",
    "                            if rst_segment == s:\n",
    "                                print '\"', s, '\" -> ', '\"', span.attrib['id'], '\"\\t [dir=\"none\"];\\n' # For testing\n",
    "                                print_satellites = '\"', s, '\" -> ', '\"', span.attrib['id'], '\"\\t [dir=\"none\"];\\n'\n",
    "                                graph.write(\"\".join(print_satellites))\n",
    "        \n",
    "        graph.write(terminate_graph)\n",
    "\n",
    "for span in rstroot.findall('.//rst-structure/*'):\n",
    "    if span.tag == 'multi-span':\n",
    "        multispan, nuclei, relation = span.attrib['id'], span.attrib['nuclei'].split(), span.attrib['relation']\n",
    "        if span.attrib['id'] == multispan:\n",
    "            for n in nuclei:\n",
    "                print_nuclei = '\"', n, '\" -> ', '\"', multispan, '\"\\t [dir=\"back\"];\\n'\n",
    "                graph.write(\"\".join(print_nuclei))\n",
    "                \n",
    "    for title in span.iter('title'):\n",
    "        target_id = span.attrib['id']\n",
    "        title_xref = title.attrib['xref']\n",
    "        if span.attrib['id'] == target_id:\n",
    "            print_title = '\"', title_xref, '\" -> ', '\"', target_id, '\"\\t [dir=\"none\", style=\"dashed\"];\\n'\n",
    "            graph.write(\"\".join(print_title))\n",
    "        \n",
    "graph.write(terminate_graph)"
   ]
  },
  {
   "cell_type": "markdown",
   "metadata": {},
   "source": [
    "Close the graph file."
   ]
  },
  {
   "cell_type": "code",
   "execution_count": null,
   "metadata": {
    "collapsed": true
   },
   "outputs": [],
   "source": [
    "graph.close()"
   ]
  },
  {
   "cell_type": "markdown",
   "metadata": {},
   "source": [
    "Use DOT draw the graph."
   ]
  },
  {
   "cell_type": "code",
   "execution_count": null,
   "metadata": {
    "collapsed": false
   },
   "outputs": [],
   "source": [
    "!dot -Tpng rst_layout_graph.gv > rst_layout_graph.png"
   ]
  },
  {
   "cell_type": "markdown",
   "metadata": {},
   "source": [
    "Show the resulting image in the IPython notebook."
   ]
  },
  {
   "cell_type": "code",
   "execution_count": null,
   "metadata": {
    "collapsed": false
   },
   "outputs": [],
   "source": [
    "Image('rst_layout_graph.png')"
   ]
  },
  {
   "cell_type": "code",
   "execution_count": null,
   "metadata": {
    "collapsed": true
   },
   "outputs": [],
   "source": []
  }
 ],
 "metadata": {
  "kernelspec": {
   "display_name": "Python 2",
   "language": "python",
   "name": "python2"
  },
  "language_info": {
   "codemirror_mode": {
    "name": "ipython",
    "version": 2
   },
   "file_extension": ".py",
   "mimetype": "text/x-python",
   "name": "python",
   "nbconvert_exporter": "python",
   "pygments_lexer": "ipython2",
   "version": "2.7.10"
  }
 },
 "nbformat": 4,
 "nbformat_minor": 0
}
