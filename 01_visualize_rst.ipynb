{
 "cells": [
  {
   "cell_type": "markdown",
   "metadata": {},
   "source": [
    "# Visualizing RST structures in GeM corpora\n",
    "\n",
    "This Jupyter notebook is intended for visualizing discourse structures in multimodal documents, as described using <a href=\"http://www.sfu.ca/rst/\">Rhetorical Structure Theory</a> and annotated using the schema proposed in the <a href=\"http://www.fb10.uni-bremen.de/anglistik/langpro/projects/gem/newframe.html\">Genre and Multimodality</a> model.\n",
    "\n",
    "For visualizing the RST structures, you need valid XML files for both base and RST layers. The content is retrieved from the base layer, before drawing out the rhetorical relations between the content, as defined in the RST annotation.\n",
    "\n",
    "The notebook adopts the technique proposed in Thomas (2009) for representing RST structures using Graphviz DOT, originally implemented in Perl and rewritten in XQuery as a part of Hiippala (2013). The RST relations (\"spans\") are represented using DOT nodes. Relations are drawn as edges from both nuclei and satellite nodes (\"segments\") towards the span, thus creating a hierarchical structure suitable for representing RST structures.\n",
    "\n",
    "**References**\n",
    "\n",
    "Hiippala, T. (2013) *Modelling the structure of a multimodal artefact*. PhD thesis, University of\n",
    "Helsinki. https://helda.helsinki.fi/handle/10138/41736\n",
    "\n",
    "Thomas, M. (2009) *Localizing pack messages: A framework for corpus-based cross-cultural\n",
    "multimodal analysis*. PhD thesis, University of Leeds."
   ]
  },
  {
   "cell_type": "markdown",
   "metadata": {},
   "source": [
    "## 1. Import the necessary packages."
   ]
  },
  {
   "cell_type": "code",
   "execution_count": null,
   "metadata": {
    "collapsed": true
   },
   "outputs": [],
   "source": [
    "# For parsing XML\n",
    "from lxml import etree as et\n",
    "\n",
    "# For formatting the content\n",
    "import textwrap\n",
    "import codecs\n",
    "\n",
    "# For displaying the results in the notebook\n",
    "from IPython.display import Image"
   ]
  },
  {
   "cell_type": "markdown",
   "metadata": {},
   "source": [
    "Check GraphViz installation."
   ]
  },
  {
   "cell_type": "code",
   "execution_count": null,
   "metadata": {
    "collapsed": false
   },
   "outputs": [],
   "source": [
    "graphviz_installed = !which dot\n",
    "if graphviz_installed == '':\n",
    "    print \"Graphviz/DOT not found. Exiting ...\"\n",
    "    quit()\n",
    "else:\n",
    "    print \"Graphviz/DOT found ...\""
   ]
  },
  {
   "cell_type": "markdown",
   "metadata": {},
   "source": [
    "If you wish to highlight a specific RST relation in the visualization, please enter the relation below. Otherwise leave blank."
   ]
  },
  {
   "cell_type": "code",
   "execution_count": null,
   "metadata": {
    "collapsed": false
   },
   "outputs": [],
   "source": [
    "hlrel = raw_input().lower()"
   ]
  },
  {
   "cell_type": "markdown",
   "metadata": {},
   "source": [
    "## 2. Parse the GeM XML files."
   ]
  },
  {
   "cell_type": "markdown",
   "metadata": {},
   "source": [
    "Define the base and RST files below."
   ]
  },
  {
   "cell_type": "code",
   "execution_count": null,
   "metadata": {
    "collapsed": true
   },
   "outputs": [],
   "source": [
    "basefile = 'test_xml/.xml' # Base layer\n",
    "rstfile = 'test_xml/.xml' # RST layer"
   ]
  },
  {
   "cell_type": "markdown",
   "metadata": {},
   "source": [
    "Define a function to parse base and RST files."
   ]
  },
  {
   "cell_type": "code",
   "execution_count": null,
   "metadata": {
    "collapsed": false
   },
   "outputs": [],
   "source": [
    "def parse_base(basefile, rstfile):\n",
    "    base_units = {} # Set up a dictionary for the base units\n",
    "    baseroot = et.parse(basefile).getroot() # Parse the XML file and get XML root\n",
    "    for unit in baseroot.findall('.//unit'):\n",
    "        unit_id = unit.attrib['id']\n",
    "        if 'alt' in unit.attrib: # Visual base units\n",
    "            unit_content = unit.attrib['alt'], ', fontsize=\"12.0\", shape=\"box\", style=\"filled\", fillcolor=\"burlywood2\"];\\n'\n",
    "        elif unit.getchildren(): # Base units with embedded visual base units\n",
    "            content = []\n",
    "            if unit.text:\n",
    "                content.append(unit.text)\n",
    "            for embedded_unit in unit.getchildren():\n",
    "                if 'alt' in embedded_unit.attrib:\n",
    "                    content.append('(' + embedded_unit.attrib['alt'] + ')')\n",
    "                    if embedded_unit.tail:\n",
    "                        content.append(embedded_unit.tail)\n",
    "                else:\n",
    "                    content.append(embedded_unit.text)\n",
    "                    if embedded_unit.tail:\n",
    "                        content.append(embedded_unit.tail)\n",
    "            unit_content = textwrap.fill(''.join(content), 35).replace(\"\\\"\", \"'\"), ', fontsize=\"12.0\", shape=\"box\", style=\"filled\", color=\"white\"];\\n'\n",
    "        else: # Base units with only verbal content\n",
    "            unit_content = textwrap.fill(''.join(unit.itertext()), 35).replace(\"\\\"\", \"'\"), ', fontsize=\"12.0\", shape=\"box\", style=\"filled\", color=\"white\"];\\n'\n",
    "\n",
    "        base_units[unit_id] = unit_content # Populate dictionary with key (id) and value (content) pairs\n",
    "            \n",
    "    rst_segments = {} # Set up a dictionary for the RST units\n",
    "    rstroot = et.parse(rstfile).getroot()\n",
    "    \n",
    "    for rst_segment in rstroot.findall('.//segment'):\n",
    "        rst_segment_id, rst_segment_xref = rst_segment.attrib['id'], rst_segment.attrib['xref']\n",
    "        rst_segment_content = base_units[rst_segment_xref]\n",
    "        rst_segments[rst_segment_id] = rst_segment_content\n",
    "        \n",
    "    for mini_segment in rstroot.findall('.//mini-segment'):\n",
    "        mini_segment_id, mini_segment_xref = mini_segment.attrib['id'], mini_segment.attrib['xref']\n",
    "        mini_segment_content = base_units[mini_segment_xref]\n",
    "        rst_segments[mini_segment_id] = mini_segment_content\n",
    "            \n",
    "    rst_relations = {}\n",
    "\n",
    "    for rst_structure in rstroot.findall('rst-structure'):\n",
    "        for span in rst_structure.getchildren():\n",
    "            if span.attrib['relation'].lower() == hlrel: # Check if the relation is highlighted\n",
    "                rst_relations[span.attrib['id']] = span.attrib['relation'].upper(), ', fontcolor=\"cyan4\", fontsize=\"14.0\", shape=\"plaintext\"];\\n'\n",
    "            else:\n",
    "                rst_relations[span.attrib['id']] = span.attrib['relation'].upper(), ', fontcolor=\"crimson\", fontsize=\"10.0\", shape=\"plaintext\"];\\n'\n",
    "\n",
    "    \n",
    "    return rst_segments, rst_relations, rstroot"
   ]
  },
  {
   "cell_type": "code",
   "execution_count": null,
   "metadata": {
    "collapsed": false
   },
   "outputs": [],
   "source": [
    "rst_segments, rst_relations, rstroot = parse_base(basefile, rstfile)"
   ]
  },
  {
   "cell_type": "markdown",
   "metadata": {},
   "source": [
    "## 3. Draw the RST graph."
   ]
  },
  {
   "cell_type": "markdown",
   "metadata": {},
   "source": [
    "Open a file for the graph; use UTF-8 encoding. Set up the beginning and the end of the graph."
   ]
  },
  {
   "cell_type": "code",
   "execution_count": null,
   "metadata": {
    "collapsed": true
   },
   "outputs": [],
   "source": [
    "graph = codecs.open('rst_graph.gv', 'w', 'utf-8')\n",
    "\n",
    "begin_graph = 'digraph \"rstgraph\" { graph [rankdir=\"BT\"];\\n'\n",
    "terminate_graph = '}'"
   ]
  },
  {
   "cell_type": "markdown",
   "metadata": {},
   "source": [
    "Begin writing the graph."
   ]
  },
  {
   "cell_type": "code",
   "execution_count": null,
   "metadata": {
    "collapsed": true
   },
   "outputs": [],
   "source": [
    "# Print the DOT graph preamble\n",
    "# print begin_graph\n",
    "graph.write(begin_graph)\n",
    "\n",
    "# Add RST spans to the graph\n",
    "for span in sorted(rst_relations):\n",
    "    relation, style = rst_relations.get(span)\n",
    "    print_span = '\"', span, '\"\\t[label=\"', relation, '\"', style\n",
    "    graph.write(\"\".join(print_span))\n",
    "    \n",
    "# Add RST segments to the graph\n",
    "for node in sorted(rst_segments):\n",
    "    content, style = rst_segments.get(node)\n",
    "    print_node = '\"', node, '\"\\t[label=\"', content, '\"', style\n",
    "    graph.write(\"\".join(print_node))\n",
    "            \n",
    "# Add edges\n",
    "for span in rstroot.findall('.//rst-structure/*'):\n",
    "    if span.tag == 'multi-span':\n",
    "        multispan, nuclei = span.attrib['id'], span.attrib['nuclei'].split()\n",
    "        if span.attrib['id'] == multispan:\n",
    "            for n in nuclei:\n",
    "                print_nuclei = '\"', n, '\" -> ', '\"', multispan, '\"\\t [dir=\"back\"];\\n'\n",
    "                graph.write(\"\".join(print_nuclei))\n",
    "\n",
    "    if span.tag == 'span':\n",
    "        spanid, nucleus, satellites = span.attrib['id'], span.attrib['nucleus'].split(), span.attrib['satellites'].split()\n",
    "        if span.attrib['id'] == spanid:\n",
    "            for n in nucleus:\n",
    "                print_nucleus = '\"', n, '\" -> ', '\"', spanid, '\"\\t [dir=\"back\"];\\n'\n",
    "                graph.write(\"\".join(print_nucleus))\n",
    "            for s in satellites:\n",
    "                print_satellites = '\"', s, '\" -> ', '\"', spanid, '\"\\t [dir=\"none\"];\\n'\n",
    "                graph.write(\"\".join(print_satellites))\n",
    "                \n",
    "    if span.tag == 'mini-span':\n",
    "        spanid, attribuend, attribute = span.attrib['id'], span.attrib['attribuend'].split(), span.attrib['attribute'].split()\n",
    "        if span.attrib['id'] == spanid:\n",
    "            for atb in attribuend:\n",
    "                print_attribuend = '\"', atb, '\" -> ', '\"', spanid, '\"\\t [dir=\"back\"];\\n'\n",
    "                graph.write(\"\".join(print_attribuend))       \n",
    "            for att in attribute:\n",
    "                print_attribute = '\"', att, '\" -> ', '\"', spanid, '\"\\t [dir=\"none\"];\\n'\n",
    "                graph.write(\"\".join(print_attribute))                \n",
    "        \n",
    "    for title in span.iter('title'):\n",
    "        target_id = span.attrib['id']\n",
    "        title_xref = title.attrib['xref']\n",
    "        if span.attrib['id'] == target_id:\n",
    "            print_title = '\"', title_xref, '\" -> ', '\"', target_id, '\"\\t [dir=\"none\", style=\"dashed\"];\\n'\n",
    "            graph.write(\"\".join(print_title))\n",
    "\n",
    "graph.write(terminate_graph)"
   ]
  },
  {
   "cell_type": "markdown",
   "metadata": {},
   "source": [
    "Close the graph file."
   ]
  },
  {
   "cell_type": "code",
   "execution_count": null,
   "metadata": {
    "collapsed": true
   },
   "outputs": [],
   "source": [
    "graph.close()"
   ]
  },
  {
   "cell_type": "markdown",
   "metadata": {},
   "source": [
    "Use DOT draw the graph."
   ]
  },
  {
   "cell_type": "code",
   "execution_count": null,
   "metadata": {
    "collapsed": true
   },
   "outputs": [],
   "source": [
    "!dot -Tpng rst_graph.gv > rst_graph.png"
   ]
  },
  {
   "cell_type": "markdown",
   "metadata": {},
   "source": [
    "Show the resulting image in the Jupyter notebook."
   ]
  },
  {
   "cell_type": "code",
   "execution_count": null,
   "metadata": {
    "collapsed": false
   },
   "outputs": [],
   "source": [
    "Image('rst_graph.png')"
   ]
  }
 ],
 "metadata": {
  "kernelspec": {
   "display_name": "Python 2",
   "language": "python",
   "name": "python2"
  },
  "language_info": {
   "codemirror_mode": {
    "name": "ipython",
    "version": 2
   },
   "file_extension": ".py",
   "mimetype": "text/x-python",
   "name": "python",
   "nbconvert_exporter": "python",
   "pygments_lexer": "ipython2",
   "version": "2.7.11"
  }
 },
 "nbformat": 4,
 "nbformat_minor": 0
}
