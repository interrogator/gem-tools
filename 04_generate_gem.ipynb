{
 "cells": [
  {
   "cell_type": "markdown",
   "metadata": {},
   "source": [
    "# Generate GeM annotation"
   ]
  },
  {
   "cell_type": "markdown",
   "metadata": {},
   "source": [
    "## 1. Import the necessary packages."
   ]
  },
  {
   "cell_type": "code",
   "execution_count": null,
   "metadata": {
    "collapsed": false
   },
   "outputs": [],
   "source": [
    "# Computer vision\n",
    "import cv2\n",
    "import mahotas\n",
    "import numpy as np\n",
    "\n",
    "# File handling\n",
    "import codecs\n",
    "\n",
    "# GeM generator\n",
    "from generator import classify, describe, detect_roi, generate_photo, generate_text, load_model, preprocess, project, sort_contours\n",
    "\n",
    "# Jupyter notebook\n",
    "from IPython.display import Image"
   ]
  },
  {
   "cell_type": "markdown",
   "metadata": {},
   "source": [
    "## 2. Set up the classifier."
   ]
  },
  {
   "cell_type": "markdown",
   "metadata": {},
   "source": [
    "Load the pre-trained data and labels."
   ]
  },
  {
   "cell_type": "code",
   "execution_count": null,
   "metadata": {
    "collapsed": false
   },
   "outputs": [],
   "source": [
    "model = load_model()"
   ]
  },
  {
   "cell_type": "markdown",
   "metadata": {},
   "source": [
    "## 3. Process the document image."
   ]
  },
  {
   "cell_type": "markdown",
   "metadata": {},
   "source": [
    "Preprocess the document image."
   ]
  },
  {
   "cell_type": "code",
   "execution_count": null,
   "metadata": {
    "collapsed": true
   },
   "outputs": [],
   "source": [
    "image, original, filename, filepath = preprocess(\"test_images/2005-hwy-side_b-5.jpg\")"
   ]
  },
  {
   "cell_type": "markdown",
   "metadata": {},
   "source": [
    "Detect regions of interest in the document image."
   ]
  },
  {
   "cell_type": "code",
   "execution_count": null,
   "metadata": {
    "collapsed": false,
    "scrolled": true
   },
   "outputs": [],
   "source": [
    "contours, hierarchy = detect_roi(image)"
   ]
  },
  {
   "cell_type": "markdown",
   "metadata": {},
   "source": [
    "Sort the detected contours."
   ]
  },
  {
   "cell_type": "code",
   "execution_count": null,
   "metadata": {
    "collapsed": false
   },
   "outputs": [],
   "source": [
    "contours = sort_contours(contours)"
   ]
  },
  {
   "cell_type": "markdown",
   "metadata": {},
   "source": [
    "Classify the detected contours."
   ]
  },
  {
   "cell_type": "code",
   "execution_count": null,
   "metadata": {
    "collapsed": false
   },
   "outputs": [],
   "source": [
    "cc, ct = classify(contours, image, model)"
   ]
  },
  {
   "cell_type": "markdown",
   "metadata": {},
   "source": [
    "Draw the detected contours for examination."
   ]
  },
  {
   "cell_type": "code",
   "execution_count": null,
   "metadata": {
    "collapsed": false,
    "scrolled": false
   },
   "outputs": [],
   "source": [
    "Image(filename=\"image_contours.png\")"
   ]
  },
  {
   "cell_type": "markdown",
   "metadata": {},
   "source": [
    "Project the detected contours on the original high resolution document image."
   ]
  },
  {
   "cell_type": "code",
   "execution_count": null,
   "metadata": {
    "collapsed": true
   },
   "outputs": [],
   "source": [
    "contours = project(image, original, contours)"
   ]
  },
  {
   "cell_type": "markdown",
   "metadata": {},
   "source": [
    "## 4. Begin the annotation."
   ]
  },
  {
   "cell_type": "markdown",
   "metadata": {},
   "source": [
    "Open the XML file."
   ]
  },
  {
   "cell_type": "code",
   "execution_count": null,
   "metadata": {
    "collapsed": false
   },
   "outputs": [],
   "source": [
    "layout_file_name = str(filename) + '-layout-2.xml'\n",
    "xmlfile = codecs.open(layout_file_name, 'w', 'utf-8')\n",
    "\n",
    "xml_opening = '<?xml version=\"1.0\" encoding=\"UTF-8\"?>\\n\\n <gemLayout>\\n'"
   ]
  },
  {
   "cell_type": "markdown",
   "metadata": {},
   "source": [
    "Write preamble."
   ]
  },
  {
   "cell_type": "code",
   "execution_count": null,
   "metadata": {
    "collapsed": true
   },
   "outputs": [],
   "source": [
    "xmlfile.write(xml_opening)"
   ]
  },
  {
   "cell_type": "code",
   "execution_count": null,
   "metadata": {
    "collapsed": false
   },
   "outputs": [],
   "source": [
    "oh = original.shape[0]\n",
    "ow = original.shape[1]\n",
    "\n",
    "segmentation = []\n",
    "area_model = []\n",
    "realization = []\n",
    "\n",
    "for num, c in enumerate(contours):\n",
    "    (x, y, w, h) = cv2.boundingRect(c)\n",
    "    # PROBLEM: THE TARGET ROI IS FETCHED FROM THE ORIGINAL IMAGE, RESULTING IN FALSE CLASSIFICATIONS.\n",
    "    # SOLUTION: POSTPONE THE PROJECTION OF BOUNDING BOXES. THE TRAINING DATA ALSO NEEDS MORE PICTOGRAMS.\n",
    "    bounding_box = original[y:y+h, x:x+w]\n",
    "    features = describe(bounding_box)\n",
    "    prediction = model.predict(features)[0]\n",
    "    if prediction == 'text':\n",
    "        # Draw rectange on original image\n",
    "        cv2.rectangle(original, (x, y), (x + w, y + h), (0, 0, 255), 1)\n",
    "        # Generate XML entries\n",
    "        lu, sa, re = generate_text(original, x, w, y, h, num)\n",
    "        # Append descriptions to list\n",
    "        segmentation.append(lu)\n",
    "        area_model.append(sa)\n",
    "        realization.append(re)\n",
    "    if prediction == 'photo':\n",
    "        # Draw rectange on original image\n",
    "        cv2.rectangle(original, (x, y), (x + w, y + h), (0, 255, 0), 1)\n",
    "        # Generate XML entries\n",
    "        vlu, vsa, vre = generate_photo(original, x, w, y, h, num)\n",
    "        # Append descriptions to list\n",
    "        segmentation.append(vlu)\n",
    "        area_model.append(vsa)\n",
    "        realization.append(vre)"
   ]
  },
  {
   "cell_type": "markdown",
   "metadata": {},
   "source": [
    "## 4. Generate the GeM XML file"
   ]
  },
  {
   "cell_type": "markdown",
   "metadata": {},
   "source": [
    "Generate annotation for layout layer segmentation."
   ]
  },
  {
   "cell_type": "code",
   "execution_count": null,
   "metadata": {
    "collapsed": false
   },
   "outputs": [],
   "source": [
    "segmentation_opening = '\\t<segmentation>\\n'\n",
    "\n",
    "xmlfile.write(\"\".join(segmentation_opening))\n",
    "\n",
    "for s in segmentation:\n",
    "    xmlfile.write(\"\".join(s))\n",
    "    \n",
    "segmentation_closing = '\\t</segmentation>\\n'\n",
    "\n",
    "xmlfile.write(\"\".join(segmentation_closing))"
   ]
  },
  {
   "cell_type": "markdown",
   "metadata": {},
   "source": [
    "Generate annotation for area model."
   ]
  },
  {
   "cell_type": "code",
   "execution_count": null,
   "metadata": {
    "collapsed": true
   },
   "outputs": [],
   "source": [
    "areamodel_opening = '\\t<area-model>\\n'\n",
    "\n",
    "xmlfile.write(\"\".join(areamodel_opening))\n",
    "\n",
    "for a in area_model:\n",
    "    xmlfile.write(\"\".join(a))\n",
    "    \n",
    "areamodel_closing = '\\t</area-model>\\n'\n",
    "\n",
    "xmlfile.write(\"\".join(areamodel_closing))"
   ]
  },
  {
   "cell_type": "markdown",
   "metadata": {},
   "source": [
    "Generate annotation for realization information."
   ]
  },
  {
   "cell_type": "code",
   "execution_count": null,
   "metadata": {
    "collapsed": true
   },
   "outputs": [],
   "source": [
    "realization_opening = '\\t<realization>\\n'\n",
    "\n",
    "xmlfile.write(\"\".join(realization_opening))\n",
    "\n",
    "for r in realization:\n",
    "    xmlfile.write(\"\".join(r))\n",
    "    \n",
    "realization_closing = '\\t</realization>\\n'\n",
    "\n",
    "xmlfile.write(\"\".join(realization_closing))"
   ]
  },
  {
   "cell_type": "markdown",
   "metadata": {},
   "source": [
    "Write closing tag."
   ]
  },
  {
   "cell_type": "code",
   "execution_count": null,
   "metadata": {
    "collapsed": true
   },
   "outputs": [],
   "source": [
    "xmlfile_closing = '</gemLayout>'\n",
    "\n",
    "xmlfile.write(\"\".join(xmlfile_closing))"
   ]
  },
  {
   "cell_type": "code",
   "execution_count": null,
   "metadata": {
    "collapsed": false
   },
   "outputs": [],
   "source": [
    "xmlfile.close()"
   ]
  }
 ],
 "metadata": {
  "kernelspec": {
   "display_name": "Python 2",
   "language": "python",
   "name": "python2"
  },
  "language_info": {
   "codemirror_mode": {
    "name": "ipython",
    "version": 2
   },
   "file_extension": ".py",
   "mimetype": "text/x-python",
   "name": "python",
   "nbconvert_exporter": "python",
   "pygments_lexer": "ipython2",
   "version": "2.7.11"
  }
 },
 "nbformat": 4,
 "nbformat_minor": 0
}
