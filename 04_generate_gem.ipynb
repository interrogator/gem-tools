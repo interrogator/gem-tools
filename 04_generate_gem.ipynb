{
 "cells": [
  {
   "cell_type": "markdown",
   "metadata": {},
   "source": [
    "# Generate GeM annotation\n",
    "\n",
    "This Jupyter notebook provides a semi-automated annotator for describing the content and layout of multimodal documents according to the schema defined in the Genre and Multimodality (GeM) model (Bateman 2008). \n",
    "\n",
    "The annotator is intended to facilitate the process of describing the mass of detail in document layouts, which has been previously identified as a major bottleneck for annotating documents using the GeM model (Thomas 2009; Hiippala 2015).\n",
    "\n",
    "That being said, this notebook does not generate traditional human-annotated GeM markup, but rather a variant intended to be processed using computers, which is hereby termed *auto-GeM*. Various tools are provided as a part of the <a href=\"https://github.com/thiippal/gem-tools\">gem-tools</a> repository for visualizing auto-GeM annotation.\n",
    "\n",
    "The notebook is intended to be friendy to novice users: therefore most of the functions reside in a module named *generator*. Advanced users may examine this file for a better understanding of the annotator's operation. \n",
    "\n",
    "**References**\n",
    "\n",
    "Bateman, J.A. (2008) *Multimodality and Genre: A Foundation for the Systematic Analysis of Multimodal Documents*. London: Palgrave.\n",
    "\n",
    "Hiippala, T. (2015) *The Structure of Multimodal Documents: An Empirical Approach*. New York and London: Routledge.\n",
    "\n",
    "Thomas, M. (2009) *Localizing pack messages: A framework for corpus-based cross-cultural\n",
    "multimodal analysis*. PhD thesis, University of Leeds."
   ]
  },
  {
   "cell_type": "markdown",
   "metadata": {},
   "source": [
    "## 1. Import the necessary packages."
   ]
  },
  {
   "cell_type": "code",
   "execution_count": null,
   "metadata": {
    "collapsed": false
   },
   "outputs": [],
   "source": [
    "from generator import *"
   ]
  },
  {
   "cell_type": "markdown",
   "metadata": {},
   "source": [
    "## 2. Set up the classifier."
   ]
  },
  {
   "cell_type": "code",
   "execution_count": null,
   "metadata": {
    "collapsed": false
   },
   "outputs": [],
   "source": [
    "model = load_model()"
   ]
  },
  {
   "cell_type": "markdown",
   "metadata": {},
   "source": [
    "## 3. Process the document image."
   ]
  },
  {
   "cell_type": "markdown",
   "metadata": {},
   "source": [
    "#### Preprocess the document image.\n",
    "\n",
    "For best results, use documents with a resolution of 300 DPI."
   ]
  },
  {
   "cell_type": "code",
   "execution_count": null,
   "metadata": {
    "collapsed": true
   },
   "outputs": [],
   "source": [
    "image, original, filename, filepath = preprocess(\"test_images/2005-hwy-side_b-5.jpg\")"
   ]
  },
  {
   "cell_type": "markdown",
   "metadata": {},
   "source": [
    "#### Detect regions of interest in the document image."
   ]
  },
  {
   "cell_type": "markdown",
   "metadata": {},
   "source": [
    "Define a kernel for morphological operations."
   ]
  },
  {
   "cell_type": "code",
   "execution_count": null,
   "metadata": {
    "collapsed": true
   },
   "outputs": [],
   "source": [
    "kernel = (11, 11)\n",
    "iterations = 2"
   ]
  },
  {
   "cell_type": "markdown",
   "metadata": {},
   "source": [
    "Detect regions of interest."
   ]
  },
  {
   "cell_type": "code",
   "execution_count": null,
   "metadata": {
    "collapsed": false
   },
   "outputs": [],
   "source": [
    "contours = detect_roi(image, kernel, iterations)"
   ]
  },
  {
   "cell_type": "markdown",
   "metadata": {},
   "source": [
    "#### Sort and classify the detected contours."
   ]
  },
  {
   "cell_type": "code",
   "execution_count": null,
   "metadata": {
    "collapsed": true
   },
   "outputs": [],
   "source": [
    "sorted_contours = sort_contours(contours)\n",
    "\n",
    "classified_contours, contour_types = classify(sorted_contours, image, model)"
   ]
  },
  {
   "cell_type": "markdown",
   "metadata": {},
   "source": [
    "#### Draw the detected contours for examination."
   ]
  },
  {
   "cell_type": "code",
   "execution_count": null,
   "metadata": {
    "collapsed": false
   },
   "outputs": [],
   "source": [
    "Image(filename=\"output/image_contours.png\")"
   ]
  },
  {
   "cell_type": "markdown",
   "metadata": {},
   "source": [
    "#### Mark false positives and erroneous or missing elements.\n",
    "\n",
    "Enter their identifiers below.\n",
    "\n",
    "Separate the numbers with a space (e.g. 11 24 32)."
   ]
  },
  {
   "cell_type": "code",
   "execution_count": null,
   "metadata": {
    "collapsed": false
   },
   "outputs": [],
   "source": [
    "false_positives = false_positives(raw_input())\n",
    "\n",
    "updated_contours, updated_contour_types = redraw(image, classified_contours, contour_types, false_positives)\n",
    "\n",
    "Image(filename=\"output/image_contours_updated.png\")"
   ]
  },
  {
   "cell_type": "markdown",
   "metadata": {},
   "source": [
    "Do you wish to mark additional elements in the document image (**y**/**n**)?"
   ]
  },
  {
   "cell_type": "code",
   "execution_count": null,
   "metadata": {
    "collapsed": false
   },
   "outputs": [],
   "source": [
    "mark = raw_input()\n",
    "\n",
    "if mark == 'y':\n",
    "    updated_contours, updated_contour_types = draw_roi(image, updated_contours, updated_contour_types)\n",
    "else:\n",
    "    pass"
   ]
  },
  {
   "cell_type": "markdown",
   "metadata": {},
   "source": [
    "#### Project the contours on the original high resolution document image."
   ]
  },
  {
   "cell_type": "code",
   "execution_count": null,
   "metadata": {
    "collapsed": true
   },
   "outputs": [],
   "source": [
    "hires_contours = project(image, original, updated_contours)"
   ]
  },
  {
   "cell_type": "markdown",
   "metadata": {},
   "source": [
    "## 4. Generate annotation."
   ]
  },
  {
   "cell_type": "code",
   "execution_count": null,
   "metadata": {
    "collapsed": false
   },
   "outputs": [],
   "source": [
    "generate_annotation(filename, original, hires_contours, updated_contour_types)"
   ]
  }
 ],
 "metadata": {
  "kernelspec": {
   "display_name": "Python 2",
   "language": "python",
   "name": "python2"
  },
  "language_info": {
   "codemirror_mode": {
    "name": "ipython",
    "version": 2
   },
   "file_extension": ".py",
   "mimetype": "text/x-python",
   "name": "python",
   "nbconvert_exporter": "python",
   "pygments_lexer": "ipython2",
   "version": "2.7.11"
  }
 },
 "nbformat": 4,
 "nbformat_minor": 0
}
