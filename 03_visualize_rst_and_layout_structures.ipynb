{
 "cells": [
  {
   "cell_type": "markdown",
   "metadata": {},
   "source": [
    "# Visualizing RST structure and area model in GeM corpora\n",
    "\n",
    "This Jupyter notebook is intended for visualizing discourse structures in multimodal documents, as described using <a href=\"http://www.sfu.ca/rst/\">Rhetorical Structure Theory</a> and annotated using the schema proposed in the <a href=\"http://www.fb10.uni-bremen.de/anglistik/langpro/projects/gem/newframe.html\">Genre and Multimodality</a> model.\n",
    "\n",
    "For visualizing the RST and layout structures, you need valid XML files for base, RST and layout layers. The content is retrieved from the base layer, before drawing out the rhetorical relations between the content and organizing it into the hierarchy defined in the layout structure.\n",
    "\n",
    "The notebook adopts the solution proposed in Thomas (2009) for representing RST structures using Graphviz DOT, originally implemented in Perl and rewritten in XQuery for Hiippala (2013, 2015). The RST relations (\"spans\") are represented using DOT nodes. Relations are drawn as edges from both nuclei and satellite nodes (\"segments\") towards the span, thus creating a hierarchical structure suitable for representing RST structures. The nodes are organized into DOT subgraphs according to their hierarchical organization as represented using the GeM layout structure.\n",
    "\n",
    "**References**\n",
    "\n",
    "Hiippala, T. (2013) *Modelling the structure of a multimodal artefact*. PhD thesis, University of\n",
    "Helsinki. https://helda.helsinki.fi/handle/10138/41736\n",
    "\n",
    "Hiippala, T. (2015) *The Structure of Multimodal Documents: An Empirical Approach*. New York and London: Routledge.\n",
    "\n",
    "Thomas, M. (2009) *Localizing pack messages: A framework for corpus-based cross-cultural\n",
    "multimodal analysis*. PhD thesis, University of Leeds."
   ]
  },
  {
   "cell_type": "markdown",
   "metadata": {},
   "source": [
    "## 1. Import the necessary packages."
   ]
  },
  {
   "cell_type": "code",
   "execution_count": null,
   "metadata": {
    "collapsed": true
   },
   "outputs": [],
   "source": [
    "# For parsing XML\n",
    "from lxml import etree as et\n",
    "\n",
    "# For formatting the content\n",
    "import textwrap\n",
    "import codecs\n",
    "\n",
    "# For testing\n",
    "from IPython.display import Image"
   ]
  },
  {
   "cell_type": "markdown",
   "metadata": {},
   "source": [
    "Check GraphViz installation."
   ]
  },
  {
   "cell_type": "code",
   "execution_count": null,
   "metadata": {
    "collapsed": false,
    "scrolled": true
   },
   "outputs": [],
   "source": [
    "graphviz_installed = !which dot\n",
    "if graphviz_installed == '':\n",
    "    print \"Graphviz/DOT not found. Exiting ...\"\n",
    "    quit()\n",
    "else:\n",
    "    print \"\\nGraphviz/DOT found ...\""
   ]
  },
  {
   "cell_type": "markdown",
   "metadata": {},
   "source": [
    "## 2. Parse the GeM XML files."
   ]
  },
  {
   "cell_type": "markdown",
   "metadata": {},
   "source": [
    "Define the base and RST files below."
   ]
  },
  {
   "cell_type": "code",
   "execution_count": null,
   "metadata": {
    "collapsed": false
   },
   "outputs": [],
   "source": [
    "basefile = 'test_xml/nyc-base.xml' # Base layer\n",
    "rstfile = 'test_xml/nyc-rst.xml' # RST layer\n",
    "layoutfile = 'test_xml/nyc-layout.xml' # Layout layer"
   ]
  },
  {
   "cell_type": "markdown",
   "metadata": {},
   "source": [
    "Define a function to parse the XML files."
   ]
  },
  {
   "cell_type": "code",
   "execution_count": null,
   "metadata": {
    "collapsed": true
   },
   "outputs": [],
   "source": [
    "def parse_xml(basefile, rstfile, layoutfile):\n",
    "    \n",
    "    ##### PARSE BASE UNITS #####\n",
    "    \n",
    "    base_units = {} # Set up a dictionary for the base units\n",
    "    baseroot = et.parse(basefile).getroot() # Parse the XML file and get XML root\n",
    "    for unit in baseroot.findall('.//unit'):\n",
    "        unit_id = unit.attrib['id']\n",
    "        if 'alt' in unit.attrib:\n",
    "            unit_content = unit.attrib['alt'], ', fontsize=\"12.0\", shape=\"box\", style=\"filled\", fillcolor=\"burlywood2\"];\\n'\n",
    "        else:\n",
    "            unit_content = textwrap.fill(''.join(unit.itertext()), 35).replace(\"\\\"\", \"'\"), ', fontsize=\"12.0\", shape=\"box\", style=\"filled\", color=\"white\"];\\n'\n",
    "        base_units[unit_id] = unit_content # Populate dictionary with key (id) and value (content) pairs\n",
    "            \n",
    "    rst_segments = {} # Set up a dictionary for the RST units\n",
    "    rst_base_mapping = {} # Set up a dictionary for mapping the RST units to the base units\n",
    "    rstroot = et.parse(rstfile).getroot()\n",
    "    \n",
    "    ##### PARSE RST UNITS #####\n",
    "    \n",
    "    for rst_segment in rstroot.findall('.//segment'):\n",
    "        rst_segment_id, rst_segment_xref = rst_segment.attrib['id'], rst_segment.attrib['xref']\n",
    "        rst_segment_content = base_units[rst_segment_xref]\n",
    "        rst_segments[rst_segment_id] = rst_segment_content\n",
    "        rst_base_mapping[rst_segment_xref] = rst_segment_id\n",
    "        \n",
    "    for mini_segment in rstroot.findall('.//mini-segment'):\n",
    "        mini_segment_id, mini_segment_xref = mini_segment.attrib['id'], mini_segment.attrib['xref']\n",
    "        mini_segment_content = base_units[mini_segment_xref]\n",
    "        rst_segments[mini_segment_id] = mini_segment_content\n",
    "        rst_base_mapping[mini_segment_xref] = mini_segment_id\n",
    "    \n",
    "    ##### PARSE RST RELATIONS #####\n",
    "    \n",
    "    rst_relations = {}\n",
    "\n",
    "    for rst_structure in rstroot.findall('rst-structure'):\n",
    "        for span in rst_structure.getchildren():\n",
    "            rst_relations[span.attrib['id']] = span.attrib['relation'].upper(), ', fontcolor=\"crimson\", fontsize=\"10.0\", shape=\"plaintext\"];\\n'\n",
    "   \n",
    "    ##### PARSE LAYOUT UNITS #####\n",
    "\n",
    "    layout_units = {} # Set up a dictionary for the layout units\n",
    "    layoutroot = et.parse(layoutfile).getroot()\n",
    "\n",
    "    for layout_unit in layoutroot.xpath('.//layout-unit'): # Use XPath to skip nested layout units\n",
    "        layout_unit_id = layout_unit.attrib['id']\n",
    "        layout_unit_xref = layout_unit.attrib['xref'].split()\n",
    "        layout_units[layout_unit_id] = layout_unit_xref\n",
    "    \n",
    "    return baseroot, rst_segments, rst_relations, rst_base_mapping, rstroot, layout_units, layoutroot"
   ]
  },
  {
   "cell_type": "code",
   "execution_count": null,
   "metadata": {
    "collapsed": false
   },
   "outputs": [],
   "source": [
    "baseroot, rst_segments, rst_relations, rst_base_mapping, rstroot, layout_units, layoutroot = parse_xml(basefile, rstfile, layoutfile)"
   ]
  },
  {
   "cell_type": "markdown",
   "metadata": {},
   "source": [
    "## 3. Draw the RST graph."
   ]
  },
  {
   "cell_type": "markdown",
   "metadata": {},
   "source": [
    "Open a file for the graph; use UTF-8 encoding. Set up the beginning and the end of the graph."
   ]
  },
  {
   "cell_type": "code",
   "execution_count": null,
   "metadata": {
    "collapsed": false
   },
   "outputs": [],
   "source": [
    "graph = codecs.open('rst_layout_graph.gv', 'w', 'utf-8')\n",
    "\n",
    "begin_graph = 'digraph \"rst_layout_graph\" { graph [rankdir=\"BT\"];\\n'\n",
    "terminate_graph = '}\\n'"
   ]
  },
  {
   "cell_type": "markdown",
   "metadata": {},
   "source": [
    "Begin writing the graph."
   ]
  },
  {
   "cell_type": "code",
   "execution_count": null,
   "metadata": {
    "collapsed": false
   },
   "outputs": [],
   "source": [
    "# Write DOT graph preamble\n",
    "graph.write(begin_graph)\n",
    "\n",
    "# Add all RST spans\n",
    "for span in sorted(rst_relations):\n",
    "    relation, style = rst_relations.get(span)\n",
    "    print_span = '\"', span, '\"\\t[label=\"', relation, '\"', style\n",
    "    graph.write(\"\".join(print_span))\n",
    "\n",
    "# Add all RST segments\n",
    "for node in sorted(rst_segments):\n",
    "    content, style = rst_segments.get(node)\n",
    "    print_node = '\"', node, '\"\\t[label=\"', content, '\"', style\n",
    "    graph.write(\"\".join(print_node))\n",
    "\n",
    "drawn_relations = [] # Set up an empty list to track relations already drawn & to eliminate duplicates\n",
    "\n",
    "# Locate the layout chunks in the layout structure\n",
    "for number, subgraph in enumerate(layoutroot.xpath('.//*/../layout-chunk[@id]')):\n",
    "    subgraph_id = subgraph.attrib['id']\n",
    "    write_chunk = '\\tsubgraph ', 'cluster', str(number), ' {\\n', 'label = \"', subgraph_id, '\";\\n'\n",
    "    graph.write(\"\".join(write_chunk))\n",
    "\n",
    "    # XPath expression for finding the identified chunks in the layout structure and their layout-leaf children   \n",
    "    chunk_xpath = './/layout-chunk[@id=\"' + subgraph_id + '\"]/layout-leaf[@xref]'\n",
    "    # Loop over the layout leafs under the chunk ...\n",
    "    for leafs in layoutroot.xpath('%s' % chunk_xpath):\n",
    "        # Loop over unique leafs\n",
    "        for leaf in layout_units[leafs.attrib['xref']]:\n",
    "            # XPath expression for finding base units with children\n",
    "            child_xpath = './/unit/*[@id=\"' + leaf + '\"]'\n",
    "            # Loop over the children\n",
    "            for child in baseroot.xpath('%s' % child_xpath):\n",
    "                rst_base_mapping[child.attrib['id']] = rst_base_mapping[child.getparent().attrib['id']]\n",
    "                \n",
    "        for xref in layout_units[leafs.attrib['xref']]:\n",
    "            # Exclude layout units not participating in RST structure\n",
    "            if xref in rst_base_mapping:\n",
    "                rst_segment = rst_base_mapping[xref]\n",
    "                # XPath expression for locating the participating spans\n",
    "                span_xpath = './/*[@nucleus=\"' + rst_segment + '\"]/@id'\n",
    "                for rst_span in rstroot.xpath('%s' % span_xpath):\n",
    "                    # Add edges for nuclei in mononuclear spans\n",
    "                    nucleus_xpath = './/*[@id=\"' + rst_span + '\"]/@nucleus'\n",
    "                    for nucleus in rstroot.xpath('%s' % nucleus_xpath):\n",
    "                        for n in nucleus.split():\n",
    "                                if (n, rst_span) not in drawn_relations: # Check that the relation is not drawn already\n",
    "                                    write_nucleus = '\"', n, '\" -> ', '\"', rst_span, '\"\\t [dir=\"back\"];\\n'\n",
    "                                    graph.write(\"\".join(write_nucleus))\n",
    "                                    drawn_relations.append((n, rst_span))\n",
    "                            \n",
    "                    # Add edges for satellites in mononuclear spans\n",
    "                    satellite_xpath = './/*[@id=\"' + rst_span + '\"]/@satellites'\n",
    "                    for satellite in rstroot.xpath('%s' % satellite_xpath):\n",
    "                        for s in satellite.split():\n",
    "                            if (s, rst_span) not in drawn_relations:\n",
    "                                write_satellites = '\"', s, '\" -> ', '\"', rst_span, '\"\\t [dir=\"none\"];\\n'\n",
    "                                graph.write(\"\".join(write_satellites))\n",
    "                                drawn_relations.append((s, rst_span))\n",
    "\n",
    "                # Add edges for segments as nuclei in multinuclear spans\n",
    "                for multispan in rstroot.xpath('.//multi-span'):\n",
    "                    nuclei = multispan.attrib['nuclei'].split()\n",
    "                    if rst_segment in nuclei:\n",
    "                        if (rst_segment, multispan.attrib['id']) not in drawn_relations:\n",
    "                            write_nuclei = '\"', rst_segment, '\" -> ', '\"', multispan.attrib['id'], '\"\\t [dir=\"back\"];\\n'\n",
    "                            graph.write(\"\".join(write_nuclei))\n",
    "                            drawn_relations.append((rst_segment, multispan.attrib['id']))\n",
    "                    \n",
    "                # Add edges for titles with segments as xref\n",
    "                title_xpath = './/title[@xref=\"' + rst_segment + '\"]/../@id'\n",
    "                for title in rstroot.xpath('%s' % title_xpath):\n",
    "                    if (rst_segment, title) not in drawn_relations:\n",
    "                        write_title = '\"', rst_segment, '\" -> ', '\"', title, '\"\\t [dir=\"none\", style=\"dashed\"];\\n'\n",
    "                        graph.write(\"\".join(write_title))\n",
    "                        drawn_relations.append((rst_segment, title))\n",
    "\n",
    "                # Add edges for spans as satellites\n",
    "                for s_span in rstroot.xpath('.//rst-structure/*[contains(@nucleus, \"span\")]/@id'):\n",
    "                    satellite_xpath = './/*[@id=\"' + s_span + '\"]/@satellites'\n",
    "                    for satellite in rstroot.xpath('%s' % satellite_xpath):\n",
    "                        for s in satellite.split():\n",
    "                            if s == rst_segment and (s, s_span) not in drawn_relations:\n",
    "                                write_nsatellites = '\"', s, '\" -> ', '\"', s_span, '\"\\t [dir=\"none\"];\\n'\n",
    "                                graph.write(\"\".join(write_nsatellites))\n",
    "                                drawn_relations.append((s, s_span))\n",
    "                \n",
    "                # Add edges for mini-spans\n",
    "                minispan_xpath = './/mini-span[@attribuend=\"' + rst_segment + '\"]/@id'\n",
    "                for minispan in rstroot.xpath('%s' % minispan_xpath):\n",
    "                    attribuend_xpath = './/*[@id=\"' + minispan + '\"]/@attribuend'\n",
    "                    for atb in rstroot.xpath('%s' % attribuend_xpath):\n",
    "                        if (atb, minispan) not in drawn_relations:\n",
    "                            write_attribuend = '\"', atb, '\" -> ', '\"', minispan, '\"\\t [dir=\"back\"];\\n'\n",
    "                            graph.write(\"\".join(write_attribuend))\n",
    "                            drawn_relations.append((atb, minispan))\n",
    "                    attribute_xpath = './/*[@id=\"' + minispan + '\"]/@attribute'\n",
    "                    for att in rstroot.xpath('%s' % attribute_xpath):\n",
    "                        if (att, minispan) not in drawn_relations.values():\n",
    "                            write_attribute = '\"', att, '\" -> ', '\"', minispan, '\"\\t [dir=\"back\"];\\n'\n",
    "                            graph.write(\"\".join(write_attribute))\n",
    "                            drawn_relations.append((att, minispan))\n",
    "                     \n",
    "    graph.write(terminate_graph)\n",
    "\n",
    "# Add edges for multispans with spans as nuclei    \n",
    "for multispan in rstroot.xpath('.//rst-structure/multi-span/@id'):\n",
    "    multispan_xpath = './/multi-span[@id=\"' + multispan + '\"]/@nuclei'\n",
    "    for nuclei in rstroot.xpath('%s' % multispan_xpath):\n",
    "        for n in nuclei.split():\n",
    "            if (n, multispan) not in drawn_relations:\n",
    "                write_nuclei = '\"', n, '\" -> ', '\"', multispan, '\"\\t [dir=\"back\"];\\n'\n",
    "                graph.write(\"\".join(write_nuclei))\n",
    "                drawn_relations.append((n, multispan))\n",
    "                \n",
    "# Add edges for spans with spans as nucleus\n",
    "for n_span in rstroot.xpath('.//rst-structure/*[contains(@nucleus, \"span\")]/@id'):\n",
    "    nucleus_xpath = './/*[@id=\"' + n_span + '\"]/@nucleus'\n",
    "    for nucleus in rstroot.xpath('%s' % nucleus_xpath):\n",
    "        for n in nucleus.split():\n",
    "            if (n, n_span) not in drawn_relations:\n",
    "                write_nspan = '\"', n, '\" -> ', '\"', n_span, '\"\\t [dir=\"back\"];\\n'\n",
    "                graph.write(\"\".join(write_nspan))\n",
    "                drawn_relations.append((n, n_span))\n",
    "    satellite_xpath = './/*[@id=\"' + n_span + '\"]/@satellites'\n",
    "    for satellite in rstroot.xpath('%s' % satellite_xpath):\n",
    "        for s in satellite.split():\n",
    "            if (s, n_span) not in drawn_relations:\n",
    "                write_nsatellites = '\"', s, '\" -> ', '\"', n_span, '\"\\t [dir=\"none\"];\\n'\n",
    "                graph.write(\"\".join(write_nsatellites))\n",
    "                drawn_relations.append((s, n_span))\n",
    "\n",
    "# Add edges for titles with span as xref\n",
    "\n",
    "for title in rstroot.xpath('.//title/@xref'):\n",
    "    title_span_xref = './/title[@xref=\"' + title + '\"]/../@id'\n",
    "    for ts in rstroot.xpath('%s' % title_span_xref):\n",
    "        if title in rst_relations:\n",
    "            if (rst_segment, title) not in drawn_relations:\n",
    "                write_tspan = '\"', rst_segment, '\" -> ', '\"', title, '\"\\t [dir=\"none\", style=\"dashed\"];\\n'\n",
    "                graph.write(\"\".join(write_tspan))\n",
    "                drawn_relations.append((rst_segment, title))\n",
    "            \n",
    "# Terminate the graph\n",
    "graph.write(terminate_graph)        "
   ]
  },
  {
   "cell_type": "markdown",
   "metadata": {},
   "source": [
    "Close the graph file."
   ]
  },
  {
   "cell_type": "code",
   "execution_count": null,
   "metadata": {
    "collapsed": true
   },
   "outputs": [],
   "source": [
    "graph.close()"
   ]
  },
  {
   "cell_type": "markdown",
   "metadata": {},
   "source": [
    "Draw the graph using DOT."
   ]
  },
  {
   "cell_type": "code",
   "execution_count": null,
   "metadata": {
    "collapsed": false
   },
   "outputs": [],
   "source": [
    "!dot -Tpng rst_layout_graph.gv > rst_layout_graph.png"
   ]
  },
  {
   "cell_type": "markdown",
   "metadata": {},
   "source": [
    "Show the resulting image in the Jupyter notebook."
   ]
  },
  {
   "cell_type": "code",
   "execution_count": null,
   "metadata": {
    "collapsed": false
   },
   "outputs": [],
   "source": [
    "Image('rst_layout_graph.png')"
   ]
  }
 ],
 "metadata": {
  "kernelspec": {
   "display_name": "Python 2",
   "language": "python",
   "name": "python2"
  },
  "language_info": {
   "codemirror_mode": {
    "name": "ipython",
    "version": 2
   },
   "file_extension": ".py",
   "mimetype": "text/x-python",
   "name": "python",
   "nbconvert_exporter": "python",
   "pygments_lexer": "ipython2",
   "version": "2.7.11"
  }
 },
 "nbformat": 4,
 "nbformat_minor": 0
}
