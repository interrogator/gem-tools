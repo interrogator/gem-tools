{
 "cells": [
  {
   "cell_type": "markdown",
   "metadata": {},
   "source": [
    "# Visualizing RST structures stored in GeM corpora"
   ]
  },
  {
   "cell_type": "markdown",
   "metadata": {},
   "source": [
    "## 1. Import the necessary packages."
   ]
  },
  {
   "cell_type": "code",
   "execution_count": 167,
   "metadata": {
    "collapsed": true
   },
   "outputs": [],
   "source": [
    "# For parsing XML\n",
    "import xml.etree.ElementTree as et\n",
    "\n",
    "# For drawing the graphs\n",
    "import pygraphviz as pgv\n",
    "\n",
    "# For formatting the content\n",
    "import textwrap"
   ]
  },
  {
   "cell_type": "markdown",
   "metadata": {},
   "source": [
    "## 2. Parse the GeM XML files."
   ]
  },
  {
   "cell_type": "code",
   "execution_count": 168,
   "metadata": {
    "collapsed": true
   },
   "outputs": [],
   "source": [
    "basefile = et.parse('test_xml/2002-she-base-1.xml') # Base layer\n",
    "rstfile = et.parse('test_xml/2002-she-rst-1.xml') # RST layer"
   ]
  },
  {
   "cell_type": "markdown",
   "metadata": {},
   "source": [
    "Get the root elements."
   ]
  },
  {
   "cell_type": "code",
   "execution_count": 169,
   "metadata": {
    "collapsed": true
   },
   "outputs": [],
   "source": [
    "baseroot = basefile.getroot()\n",
    "rstroot = rstfile.getroot()"
   ]
  },
  {
   "cell_type": "markdown",
   "metadata": {},
   "source": [
    "Parse the base units."
   ]
  },
  {
   "cell_type": "code",
   "execution_count": 170,
   "metadata": {
    "collapsed": false
   },
   "outputs": [],
   "source": [
    "base_units = {} # Set up an empty dictionary\n",
    "\n",
    "for unit in baseroot:\n",
    "    unit_id = unit.attrib['id']\n",
    "    if 'alt' in unit.attrib:\n",
    "        unit_content = unit.attrib['alt']\n",
    "    else:\n",
    "        unit_content = textwrap.fill(''.join(unit.itertext()), 35)\n",
    "        \n",
    "    base_units[unit_id] = unit_content # Populate dictionary with key (id) and value (content) pairs"
   ]
  },
  {
   "cell_type": "markdown",
   "metadata": {},
   "source": [
    "Parse the RST units."
   ]
  },
  {
   "cell_type": "code",
   "execution_count": 171,
   "metadata": {
    "collapsed": false
   },
   "outputs": [],
   "source": [
    "rst_units = {}\n",
    "\n",
    "for rstunit in rstroot[0]: # [0] to access the nested <segment> element\n",
    "    rstunit_id = rstunit.attrib['id']\n",
    "    rstunit_xref = rstunit.attrib['xref']\n",
    "    rstunit_content = base_units[rstunit_xref]\n",
    "    rst_units[rstunit_id] = rstunit_content"
   ]
  },
  {
   "cell_type": "markdown",
   "metadata": {},
   "source": [
    "Set up graph."
   ]
  },
  {
   "cell_type": "code",
   "execution_count": 172,
   "metadata": {
    "collapsed": false
   },
   "outputs": [],
   "source": [
    "rst_graph = pgv.AGraph(directed = True, strict = False, ranksep='1.0', rankdir=\"TB\")"
   ]
  },
  {
   "cell_type": "markdown",
   "metadata": {},
   "source": [
    "Parse the RST relations."
   ]
  },
  {
   "cell_type": "code",
   "execution_count": 173,
   "metadata": {
    "collapsed": false
   },
   "outputs": [],
   "source": [
    "rst_relations = {}\n",
    "\n",
    "for span in rstroot[1]: # [1] to access the nested <rst-structure> element\n",
    "    rst_relations[span.attrib['id']] = span.attrib['relation']"
   ]
  },
  {
   "cell_type": "markdown",
   "metadata": {},
   "source": [
    "Parse the RST spans."
   ]
  },
  {
   "cell_type": "code",
   "execution_count": 174,
   "metadata": {
    "collapsed": false
   },
   "outputs": [],
   "source": [
    "rst_graph.add_nodes_from(rst_relations) # add relations\n",
    "rst_graph.add_nodes_from(rst_units) # add segments"
   ]
  },
  {
   "cell_type": "markdown",
   "metadata": {},
   "source": [
    "Set node properties for relations and segments."
   ]
  },
  {
   "cell_type": "code",
   "execution_count": 175,
   "metadata": {
    "collapsed": false
   },
   "outputs": [],
   "source": [
    "for node in rst_graph.nodes():\n",
    "    if node in rst_units:\n",
    "        rst_graph.get_node(node).attr['label'] = rst_units[node]\n",
    "        rst_graph.get_node(node).attr['shape'] = 'box'\n",
    "        rst_graph.get_node(node).attr['fontsize'] = '9.0'\n",
    "    if node in rst_relations:\n",
    "        rst_graph.get_node(node).attr['label'] = rst_relations[node]\n",
    "        rst_graph.get_node(node).attr['shape'] = 'none'\n",
    "        rst_graph.get_node(node).attr['style'] = 'filled'\n",
    "        rst_graph.get_node(node).attr['fillcolor'] = 'gray82'\n",
    "        rst_graph.get_node(node).attr['fontcolor'] = 'crimson'"
   ]
  },
  {
   "cell_type": "markdown",
   "metadata": {},
   "source": [
    "Add edges."
   ]
  },
  {
   "cell_type": "code",
   "execution_count": 176,
   "metadata": {
    "collapsed": false
   },
   "outputs": [],
   "source": [
    "for span in rstroot[1]:\n",
    "    if span.tag == 'multi-span':\n",
    "        multispan, nuclei, relation = span.attrib['id'], span.attrib['nuclei'].split(), span.attrib['relation']\n",
    "        if span.attrib['id'] == multispan:\n",
    "            for n in nuclei:\n",
    "                rst_graph.add_edge(multispan, n, label='n')\n",
    "    if span.tag == 'span':\n",
    "        spanid, nucleus, satellites, relation = span.attrib['id'], span.attrib['nucleus'].split(), span.attrib['satellites'].split(), span.attrib['relation']\n",
    "        if span.attrib['id'] == spanid:\n",
    "            for n in nucleus:\n",
    "                rst_graph.add_edge(spanid, n, label='n', dirType='forward', rankType='same')\n",
    "            for s in satellites:\n",
    "                rst_graph.add_edge(s, spanid, label='s', dirType='none', rankType='same')\n",
    "    for title in span.iter('title'):\n",
    "        target_id = span.attrib['id']\n",
    "        title_xref = title.attrib['xref']\n",
    "        if span.attrib['id'] == target_id:\n",
    "            rst_graph.add_edge(title_xref, target_id, label='title')"
   ]
  },
  {
   "cell_type": "code",
   "execution_count": 177,
   "metadata": {
    "collapsed": false
   },
   "outputs": [],
   "source": [
    "rst_graph.draw(\"test.png\", format = \"png\", prog = 'dot')"
   ]
  },
  {
   "cell_type": "code",
   "execution_count": 178,
   "metadata": {
    "collapsed": false
   },
   "outputs": [
    {
     "name": "stdout",
     "output_type": "stream",
     "text": [
      "digraph {\n",
      "\tgraph [rankdir=TB,\n",
      "\t\tranksep=1.0\n",
      "\t];\n",
      "\tnode [label=\"\\N\"];\n",
      "\t\"span-10.02\"\t [fillcolor=gray82,\n",
      "\t\tfontcolor=crimson,\n",
      "\t\tlabel=elaboration,\n",
      "\t\tshape=none,\n",
      "\t\tstyle=filled];\n",
      "\t\"s-10.04\"\t [fontsize=9.0,\n",
      "\t\tlabel=\"Parks and gardens\",\n",
      "\t\tshape=box];\n",
      "\t\"span-10.02\" -> \"s-10.04\"\t [dirType=forward,\n",
      "\t\tlabel=n,\n",
      "\t\trankType=same];\n",
      "\t\"span-10.03\"\t [fillcolor=gray82,\n",
      "\t\tfontcolor=crimson,\n",
      "\t\tlabel=elaboration,\n",
      "\t\tshape=none,\n",
      "\t\tstyle=filled];\n",
      "\t\"span-10.03\" -> \"span-10.02\"\t [dirType=none,\n",
      "\t\tlabel=s,\n",
      "\t\trankType=same];\n",
      "\t\"s-10.05\"\t [fontsize=9.0,\n",
      "\t\tlabel=\"Helsinki has dozens of parks and\n",
      "green areas which cover about 5,000\n",
      "hectares in all.\",\n",
      "\t\tshape=box];\n",
      "\t\"span-10.03\" -> \"s-10.05\"\t [dirType=forward,\n",
      "\t\tlabel=n,\n",
      "\t\trankType=same];\n",
      "\t\"span-10.01\"\t [fillcolor=gray82,\n",
      "\t\tfontcolor=crimson,\n",
      "\t\tlabel=joint,\n",
      "\t\tshape=none,\n",
      "\t\tstyle=filled];\n",
      "\t\"span-10.01\" -> \"span-10.02\"\t [label=title];\n",
      "\t\"s-10.02\"\t [fontsize=9.0,\n",
      "\t\tlabel=\"Summer oases\",\n",
      "\t\tshape=box];\n",
      "\t\"span-10.01\" -> \"s-10.02\"\t [label=n];\n",
      "\t\"s-10.03\"\t [fontsize=9.0,\n",
      "\t\tlabel=\"Logo: Sense Helsinki\",\n",
      "\t\tshape=box];\n",
      "\t\"span-10.01\" -> \"s-10.03\"\t [label=n];\n",
      "\t\"span-10.06\"\t [fillcolor=gray82,\n",
      "\t\tfontcolor=crimson,\n",
      "\t\tlabel=elaboration,\n",
      "\t\tshape=none,\n",
      "\t\tstyle=filled];\n",
      "\t\"s-10.08\"\t [fontsize=9.0,\n",
      "\t\tlabel=\"The Esplanade is full of life in\n",
      "the summer and is a favourite spot\n",
      "among tourists and locals alike.\",\n",
      "\t\tshape=box];\n",
      "\t\"span-10.06\" -> \"s-10.08\"\t [dirType=forward,\n",
      "\t\tlabel=n,\n",
      "\t\trankType=same];\n",
      "\t\"span-10.04\"\t [fillcolor=gray82,\n",
      "\t\tfontcolor=crimson,\n",
      "\t\tlabel=preparation,\n",
      "\t\tshape=none,\n",
      "\t\tstyle=filled];\n",
      "\t\"s-10.08\" -> \"span-10.04\"\t [dirType=none,\n",
      "\t\tlabel=s,\n",
      "\t\trankType=same];\n",
      "\t\"span-10.07\"\t [fillcolor=gray82,\n",
      "\t\tfontcolor=crimson,\n",
      "\t\tlabel=joint,\n",
      "\t\tshape=none,\n",
      "\t\tstyle=filled];\n",
      "\t\"span-10.07\" -> \"span-10.06\"\t [dirType=none,\n",
      "\t\tlabel=s,\n",
      "\t\trankType=same];\n",
      "\t\"span-10.08\"\t [fillcolor=gray82,\n",
      "\t\tfontcolor=crimson,\n",
      "\t\tlabel=elaboration,\n",
      "\t\tshape=none,\n",
      "\t\tstyle=filled];\n",
      "\t\"span-10.07\" -> \"span-10.08\"\t [label=n];\n",
      "\t\"s-10.10\"\t [fontsize=9.0,\n",
      "\t\tlabel=\"The Esplanade bandstand has plenty\n",
      "of programme in the summer,\n",
      "including jazz, blues, folk music\n",
      "and rock.\",\n",
      "\t\tshape=box];\n",
      "\t\"span-10.07\" -> \"s-10.10\"\t [label=n];\n",
      "\t\"s-10.09\"\t [fontsize=9.0,\n",
      "\t\tlabel=\"On warm summer days the park is\n",
      "full of people who enjoy its green\n",
      "urban environment.\",\n",
      "\t\tshape=box];\n",
      "\t\"span-10.07\" -> \"s-10.09\"\t [label=n];\n",
      "\t\"s-10.11\"\t [fontsize=9.0,\n",
      "\t\tlabel=\"Jazz concerts in July are\n",
      "especially popular.\",\n",
      "\t\tshape=box];\n",
      "\t\"span-10.08\" -> \"s-10.11\"\t [dirType=forward,\n",
      "\t\tlabel=n,\n",
      "\t\trankType=same];\n",
      "\t\"span-10.04\" -> \"span-10.02\"\t [dirType=forward,\n",
      "\t\tlabel=n,\n",
      "\t\trankType=same];\n",
      "\t\"span-10.05\"\t [fillcolor=gray82,\n",
      "\t\tfontcolor=crimson,\n",
      "\t\tlabel=restatement,\n",
      "\t\tshape=none,\n",
      "\t\tstyle=filled];\n",
      "\t\"s-10.07\"\t [fontsize=9.0,\n",
      "\t\tlabel=\"Esplanade Park\",\n",
      "\t\tshape=box];\n",
      "\t\"span-10.05\" -> \"s-10.07\"\t [label=n];\n",
      "\t\"s-10.01\"\t [fontsize=9.0,\n",
      "\t\tlabel=\"Photo: Esplanade\",\n",
      "\t\tshape=box];\n",
      "\t\"span-10.05\" -> \"s-10.01\"\t [label=n];\n",
      "\t\"s-10.11-m\"\t [fontsize=9.0,\n",
      "\t\tlabel=\"Photo: The Esplanade bandstand\",\n",
      "\t\tshape=box];\n",
      "\t\"span-10.05\" -> \"s-10.11-m\"\t [label=n];\n",
      "\t\"s-10.07\" -> \"span-10.04\"\t [label=title];\n",
      "\t\"s-10.06\"\t [fontsize=9.0,\n",
      "\t\tlabel=\"Visitors can walk around Töölö Bay\n",
      "or down by the sea in Kaivopuisto,\n",
      "for example.\",\n",
      "\t\tshape=box];\n",
      "\t\"s-10.06\" -> \"span-10.03\"\t [dirType=none,\n",
      "\t\tlabel=s,\n",
      "\t\trankType=same];\n",
      "\t\"s-10.13\"\t [fontsize=9.0,\n",
      "\t\tlabel=\"Additional programme is also\n",
      "offered around lunchtime on\n",
      "weekdays.\",\n",
      "\t\tshape=box];\n",
      "\t\"s-10.13\" -> \"span-10.08\"\t [dirType=none,\n",
      "\t\tlabel=s,\n",
      "\t\trankType=same];\n",
      "\t\"s-10.14\"\t [fontsize=9.0,\n",
      "\t\tlabel=\"The streets on both sides of the\n",
      "Esplanade are full of design shops\n",
      "and pleasant cafes and restaurants\n",
      "with terraces.\",\n",
      "\t\tshape=box];\n",
      "\t\"s-10.14\" -> \"span-10.06\"\t [dirType=none,\n",
      "\t\tlabel=s,\n",
      "\t\trankType=same];\n",
      "\t\"s-10.12\"\t [fontsize=9.0,\n",
      "\t\tlabel=\"Performances are generally at\n",
      "4.30pm Monday through Thursday and\n",
      "10.30am on Saturdays.\",\n",
      "\t\tshape=box];\n",
      "\t\"s-10.12\" -> \"span-10.08\"\t [dirType=none,\n",
      "\t\tlabel=s,\n",
      "\t\trankType=same];\n",
      "}\n",
      "\n"
     ]
    }
   ],
   "source": [
    "print rst_graph.string()"
   ]
  },
  {
   "cell_type": "code",
   "execution_count": null,
   "metadata": {
    "collapsed": true
   },
   "outputs": [],
   "source": []
  }
 ],
 "metadata": {
  "kernelspec": {
   "display_name": "Python 2",
   "language": "python",
   "name": "python2"
  },
  "language_info": {
   "codemirror_mode": {
    "name": "ipython",
    "version": 2
   },
   "file_extension": ".py",
   "mimetype": "text/x-python",
   "name": "python",
   "nbconvert_exporter": "python",
   "pygments_lexer": "ipython2",
   "version": "2.7.10"
  }
 },
 "nbformat": 4,
 "nbformat_minor": 0
}
