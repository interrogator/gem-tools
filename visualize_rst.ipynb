{
 "cells": [
  {
   "cell_type": "markdown",
   "metadata": {},
   "source": [
    "# Visualizing RST structures in GeM corpora"
   ]
  },
  {
   "cell_type": "markdown",
   "metadata": {},
   "source": [
    "## 1. Import the necessary packages."
   ]
  },
  {
   "cell_type": "code",
   "execution_count": null,
   "metadata": {
    "collapsed": true
   },
   "outputs": [],
   "source": [
    "# For parsing XML\n",
    "import xml.etree.ElementTree as et\n",
    "\n",
    "# For formatting the content\n",
    "import textwrap\n",
    "import codecs\n",
    "\n",
    "# For testing\n",
    "from IPython.display import Image"
   ]
  },
  {
   "cell_type": "markdown",
   "metadata": {},
   "source": [
    "Check GraphViz installation."
   ]
  },
  {
   "cell_type": "code",
   "execution_count": null,
   "metadata": {
    "collapsed": false
   },
   "outputs": [],
   "source": [
    "graphviz_installed = !which dot\n",
    "if graphviz_installed == '':\n",
    "    print \"Graphviz/DOT not found. Exiting ...\"\n",
    "    quit()\n",
    "else:\n",
    "    print \"Graphviz/DOT found ...\""
   ]
  },
  {
   "cell_type": "markdown",
   "metadata": {},
   "source": [
    "## 2. Parse the GeM XML files."
   ]
  },
  {
   "cell_type": "code",
   "execution_count": null,
   "metadata": {
    "collapsed": true
   },
   "outputs": [],
   "source": [
    "basefile = et.parse('test_xml/2002-she-base-1.xml') # Base layer\n",
    "rstfile = et.parse('test_xml/2002-she-rst-1.xml') # RST layer"
   ]
  },
  {
   "cell_type": "markdown",
   "metadata": {},
   "source": [
    "Get the root elements."
   ]
  },
  {
   "cell_type": "code",
   "execution_count": null,
   "metadata": {
    "collapsed": true
   },
   "outputs": [],
   "source": [
    "baseroot = basefile.getroot()\n",
    "rstroot = rstfile.getroot()"
   ]
  },
  {
   "cell_type": "markdown",
   "metadata": {},
   "source": [
    "Parse the base units."
   ]
  },
  {
   "cell_type": "code",
   "execution_count": null,
   "metadata": {
    "collapsed": false
   },
   "outputs": [],
   "source": [
    "base_units = {} # Set up an empty dictionary\n",
    "\n",
    "for unit in baseroot:\n",
    "    unit_id = unit.attrib['id']\n",
    "    if 'alt' in unit.attrib:\n",
    "        unit_content = unit.attrib['alt']\n",
    "    else:\n",
    "        unit_content = textwrap.fill(''.join(unit.itertext()), 35)\n",
    "        \n",
    "    base_units[unit_id] = unit_content # Populate dictionary with key (id) and value (content) pairs"
   ]
  },
  {
   "cell_type": "markdown",
   "metadata": {},
   "source": [
    "Parse the RST units."
   ]
  },
  {
   "cell_type": "code",
   "execution_count": null,
   "metadata": {
    "collapsed": false
   },
   "outputs": [],
   "source": [
    "rst_units = {}\n",
    "\n",
    "for rstunit in rstroot[0]: # [0] to access the nested <segment> element\n",
    "    rstunit_id = rstunit.attrib['id']\n",
    "    rstunit_xref = rstunit.attrib['xref']\n",
    "    rstunit_content = base_units[rstunit_xref]\n",
    "    rst_units[rstunit_id] = rstunit_content"
   ]
  },
  {
   "cell_type": "markdown",
   "metadata": {},
   "source": [
    "Parse the RST relations."
   ]
  },
  {
   "cell_type": "code",
   "execution_count": null,
   "metadata": {
    "collapsed": false
   },
   "outputs": [],
   "source": [
    "rst_relations = {}\n",
    "\n",
    "for span in rstroot[1]: # [1] to access the nested <rst-structure> element\n",
    "    rst_relations[span.attrib['id']] = span.attrib['relation'].upper()"
   ]
  },
  {
   "cell_type": "markdown",
   "metadata": {},
   "source": [
    "## 3. Draw the RST graph."
   ]
  },
  {
   "cell_type": "markdown",
   "metadata": {},
   "source": [
    "Open a file."
   ]
  },
  {
   "cell_type": "code",
   "execution_count": null,
   "metadata": {
    "collapsed": false
   },
   "outputs": [],
   "source": [
    "graph = codecs.open('graph.gv', 'w', 'utf-8')"
   ]
  },
  {
   "cell_type": "code",
   "execution_count": null,
   "metadata": {
    "collapsed": true
   },
   "outputs": [],
   "source": [
    "begin_graph = 'digraph \"test\" { graph [rankdir=\"BT\"];\\n'\n",
    "terminate_graph = '}'"
   ]
  },
  {
   "cell_type": "code",
   "execution_count": null,
   "metadata": {
    "collapsed": false
   },
   "outputs": [],
   "source": [
    "# Print the DOT graph preamble\n",
    "# print begin_graph\n",
    "graph.write(begin_graph)\n",
    "\n",
    "# Set up a variable that defines the nodes' appearance\n",
    "node_appearance = ', fontsize=\"12.0\", shape=\"box\", style=\"filled\", color=\"white\"];\\n'\n",
    "span_appearance = ', fontcolor=\"crimson\", fontsize=\"10.0\", shape=\"plaintext\"];\\n'\n",
    "\n",
    "# Add RST spans to the graph\n",
    "for span in sorted(rst_relations):\n",
    "    print_span = '\"', span, '\"\\t[label=\"', rst_relations.get(span), '\"', span_appearance\n",
    "    #print \"\".join(print_span)\n",
    "    graph.write(\"\".join(print_span))\n",
    "    \n",
    "# Add RST segments to the graph\n",
    "for node in sorted(rst_units):\n",
    "    print_node = '\"', node, '\"\\t[label=\"', rst_units.get(node), '\"', node_appearance\n",
    "    # print \"\".join(print_node)\n",
    "    graph.write(\"\".join(print_node))\n",
    "            \n",
    "# Add edges\n",
    "for span in sorted(rstroot[1]):\n",
    "    if span.tag == 'multi-span':\n",
    "        multispan, nuclei, relation = span.attrib['id'], span.attrib['nuclei'].split(), span.attrib['relation']\n",
    "        if span.attrib['id'] == multispan:\n",
    "            for n in nuclei:\n",
    "                print_nuclei = '\"', n, '\" -> ', '\"', multispan, '\"\\t [dir=\"back\"];\\n'\n",
    "                graph.write(\"\".join(print_nuclei))\n",
    "\n",
    "    if span.tag == 'span':\n",
    "        spanid, nucleus, satellites, relation = span.attrib['id'], span.attrib['nucleus'].split(), span.attrib['satellites'].split(), span.attrib['relation']\n",
    "        if span.attrib['id'] == spanid:\n",
    "            for n in nucleus:\n",
    "                print_nucleus = '\"', n, '\" -> ', '\"', spanid, '\"\\t [dir=\"back\"];\\n'\n",
    "                graph.write(\"\".join(print_nucleus))\n",
    "            for s in satellites:\n",
    "                print_satellites = '\"', s, '\" -> ', '\"', spanid, '\"\\t [dir=\"none\"];\\n'\n",
    "                graph.write(\"\".join(print_satellites))\n",
    "                \n",
    "    for title in span.iter('title'):\n",
    "        target_id = span.attrib['id']\n",
    "        title_xref = title.attrib['xref']\n",
    "        if span.attrib['id'] == target_id:\n",
    "            print_title = '\"', title_xref, '\" -> ', '\"', target_id, '\"\\t [dir=\"none\", style=\"dashed\"];\\n'\n",
    "            graph.write(\"\".join(print_title))\n",
    "\n",
    "graph.write(terminate_graph)"
   ]
  },
  {
   "cell_type": "code",
   "execution_count": null,
   "metadata": {
    "collapsed": true
   },
   "outputs": [],
   "source": [
    "graph.close()"
   ]
  },
  {
   "cell_type": "code",
   "execution_count": null,
   "metadata": {
    "collapsed": false
   },
   "outputs": [],
   "source": [
    "!dot -Tpng graph.gv > graph.png"
   ]
  },
  {
   "cell_type": "code",
   "execution_count": null,
   "metadata": {
    "collapsed": false
   },
   "outputs": [],
   "source": [
    "Image('graph.png')"
   ]
  }
 ],
 "metadata": {
  "kernelspec": {
   "display_name": "Python 2",
   "language": "python",
   "name": "python2"
  },
  "language_info": {
   "codemirror_mode": {
    "name": "ipython",
    "version": 2
   },
   "file_extension": ".py",
   "mimetype": "text/x-python",
   "name": "python",
   "nbconvert_exporter": "python",
   "pygments_lexer": "ipython2",
   "version": "2.7.10"
  }
 },
 "nbformat": 4,
 "nbformat_minor": 0
}
