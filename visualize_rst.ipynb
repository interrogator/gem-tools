{
 "cells": [
  {
   "cell_type": "markdown",
   "metadata": {},
   "source": [
    "# Visualizing RST structures in GeM corpora"
   ]
  },
  {
   "cell_type": "markdown",
   "metadata": {},
   "source": [
    "## 1. Import the necessary packages."
   ]
  },
  {
   "cell_type": "code",
   "execution_count": 1,
   "metadata": {
    "collapsed": true
   },
   "outputs": [],
   "source": [
    "# For parsing XML\n",
    "import xml.etree.ElementTree as et\n",
    "\n",
    "# For drawing the graphs\n",
    "import pygraphviz as pgv\n",
    "\n",
    "# TO DO: format the RST segments\n",
    "# import textwrap"
   ]
  },
  {
   "cell_type": "markdown",
   "metadata": {},
   "source": [
    "## 2. Parse the GeM XML files."
   ]
  },
  {
   "cell_type": "code",
   "execution_count": 2,
   "metadata": {
    "collapsed": true
   },
   "outputs": [],
   "source": [
    "basefile = et.parse('test_xml/2002-she-base-1.xml') # Base layer\n",
    "rstfile = et.parse('test_xml/2002-she-rst-1.xml') # RST layer"
   ]
  },
  {
   "cell_type": "markdown",
   "metadata": {},
   "source": [
    "Get the root elements."
   ]
  },
  {
   "cell_type": "code",
   "execution_count": 3,
   "metadata": {
    "collapsed": true
   },
   "outputs": [],
   "source": [
    "baseroot = basefile.getroot()\n",
    "rstroot = rstfile.getroot()"
   ]
  },
  {
   "cell_type": "markdown",
   "metadata": {},
   "source": [
    "Parse the base units."
   ]
  },
  {
   "cell_type": "code",
   "execution_count": 4,
   "metadata": {
    "collapsed": false
   },
   "outputs": [],
   "source": [
    "base_units = {} # Set up an empty dictionary\n",
    "\n",
    "for unit in baseroot:\n",
    "    unit_id = unit.attrib['id']\n",
    "    if 'alt' in unit.attrib:\n",
    "        unit_content = unit.attrib['alt']\n",
    "    else:\n",
    "        unit_content = unit.text\n",
    "    base_units[unit_id] = unit_content # Populate dictionary with key (id) and value (content) pairs\n",
    "    \n",
    "# TO DO: PARSE CONTENT FROM EMBEDDED BASE UNITS"
   ]
  },
  {
   "cell_type": "markdown",
   "metadata": {},
   "source": [
    "Parse the RST units."
   ]
  },
  {
   "cell_type": "code",
   "execution_count": 5,
   "metadata": {
    "collapsed": false
   },
   "outputs": [],
   "source": [
    "rst_units = {}\n",
    "\n",
    "for rstunit in rstroot[0]: # [0] to access the nested <segment> element\n",
    "    rstunit_id = rstunit.attrib['id']\n",
    "    rstunit_xref = rstunit.attrib['xref']\n",
    "    rstunit_content = base_units[rstunit_xref]\n",
    "    rst_units[rstunit_id] = rstunit_content"
   ]
  },
  {
   "cell_type": "markdown",
   "metadata": {},
   "source": [
    "Parse the RST relations."
   ]
  },
  {
   "cell_type": "code",
   "execution_count": 6,
   "metadata": {
    "collapsed": false
   },
   "outputs": [],
   "source": [
    "rst_relations = {}\n",
    "\n",
    "for span in rstroot[1]: # [1] to access the nested <rst-structure> element\n",
    "    rst_relations[span.attrib['id']] = span.attrib['relation']"
   ]
  },
  {
   "cell_type": "markdown",
   "metadata": {},
   "source": [
    "Parse the RST spans."
   ]
  },
  {
   "cell_type": "code",
   "execution_count": 19,
   "metadata": {
    "collapsed": false
   },
   "outputs": [],
   "source": [
    "rst_graph = pgv.AGraph(strict = False, directed = False, ranksep='1.0')\n",
    "\n",
    "rst_graph.add_nodes_from(rst_relations) # add relations\n",
    "rst_graph.add_nodes_from(rst_units) # add segments\n",
    "\n",
    "for node in rst_graph.nodes():\n",
    "    if node in rst_units:\n",
    "        rst_graph.get_node(node).attr['label'] = rst_units[node]\n",
    "        rst_graph.get_node(node).attr['shape'] = 'box'\n",
    "        rst_graph.get_node(node).attr['fontsize'] = '8.0'\n",
    "    if node in relations:\n",
    "        rst_graph.get_node(node).attr['label'] = relations[node]\n",
    "        rst_graph.get_node(node).attr['shape'] = 'none'\n",
    "        rst_graph.get_node(node).attr['style'] = 'filled'\n",
    "        rst_graph.get_node(node).attr['fillcolor'] = 'gray82'\n",
    "        rst_graph.get_node(node).attr['fontcolor'] = 'crimson'"
   ]
  },
  {
   "cell_type": "code",
   "execution_count": 20,
   "metadata": {
    "collapsed": false,
    "scrolled": false
   },
   "outputs": [],
   "source": [
    "relations = {}\n",
    "edges = []\n",
    "\n",
    "for span in rstroot[1]:\n",
    "    if span.tag == 'multi-span':\n",
    "        multispan, nuclei, relation = span.attrib['id'], span.attrib['nuclei'].split(), span.attrib['relation']\n",
    "        if span.attrib['id'] == multispan:\n",
    "            relations[multispan] = relation\n",
    "            for n in nuclei:\n",
    "                edges.append((multispan, n))\n",
    "    if span.tag == 'span':\n",
    "        spanid, nucleus, satellites, relation = span.attrib['id'], span.attrib['nucleus'].split(), span.attrib['satellites'].split(), span.attrib['relation']\n",
    "        if span.attrib['id'] == spanid:\n",
    "            relations[spanid] = relation\n",
    "            for n in nucleus:\n",
    "                edges.append((spanid, n))\n",
    "            for s in satellites:\n",
    "                edges.append((s, spanid))\n",
    "    for title in span.iter('title'):\n",
    "        target_id = span.attrib['id']\n",
    "        title_xref = title.attrib['xref']\n",
    "        if span.attrib['id'] == target_id:\n",
    "            edges.append((title_xref, target_id))"
   ]
  },
  {
   "cell_type": "code",
   "execution_count": 21,
   "metadata": {
    "collapsed": true
   },
   "outputs": [],
   "source": [
    "rst_graph.add_edges_from(edges)\n",
    "rst_graph.draw(\"test1.png\", format = \"png\", prog = 'dot')"
   ]
  }
 ],
 "metadata": {
  "kernelspec": {
   "display_name": "Python 2",
   "language": "python",
   "name": "python2"
  },
  "language_info": {
   "codemirror_mode": {
    "name": "ipython",
    "version": 2
   },
   "file_extension": ".py",
   "mimetype": "text/x-python",
   "name": "python",
   "nbconvert_exporter": "python",
   "pygments_lexer": "ipython2",
   "version": "2.7.10"
  }
 },
 "nbformat": 4,
 "nbformat_minor": 0
}
