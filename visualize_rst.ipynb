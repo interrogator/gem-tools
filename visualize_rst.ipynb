{
 "cells": [
  {
   "cell_type": "markdown",
   "metadata": {},
   "source": [
    "# Visualizing RST structures in GeM corpora"
   ]
  },
  {
   "cell_type": "markdown",
   "metadata": {},
   "source": [
    "## 1. Import the necessary packages."
   ]
  },
  {
   "cell_type": "code",
   "execution_count": 1,
   "metadata": {
    "collapsed": true
   },
   "outputs": [],
   "source": [
    "# For parsing XML\n",
    "import xml.etree.ElementTree as et\n",
    "\n",
    "# For drawing the graphs\n",
    "import pygraphviz as pgv"
   ]
  },
  {
   "cell_type": "markdown",
   "metadata": {},
   "source": [
    "## 2. Parse the GeM XML files."
   ]
  },
  {
   "cell_type": "code",
   "execution_count": 2,
   "metadata": {
    "collapsed": true
   },
   "outputs": [],
   "source": [
    "basefile = et.parse('test_xml/2002-she-base-1.xml') # Base layer\n",
    "rstfile = et.parse('test_xml/2002-she-rst-1.xml') # RST layer"
   ]
  },
  {
   "cell_type": "markdown",
   "metadata": {},
   "source": [
    "Get the root elements."
   ]
  },
  {
   "cell_type": "code",
   "execution_count": 3,
   "metadata": {
    "collapsed": true
   },
   "outputs": [],
   "source": [
    "baseroot = basefile.getroot()\n",
    "rstroot = rstfile.getroot()"
   ]
  },
  {
   "cell_type": "markdown",
   "metadata": {},
   "source": [
    "Parse the base units."
   ]
  },
  {
   "cell_type": "code",
   "execution_count": 4,
   "metadata": {
    "collapsed": false
   },
   "outputs": [],
   "source": [
    "base_units = {} # Set up an empty dictionary\n",
    "\n",
    "for unit in baseroot:\n",
    "    unit_id = unit.attrib['id']\n",
    "    if 'alt' in unit.attrib:\n",
    "        unit_content = unit.attrib['alt']\n",
    "    else:\n",
    "        unit_content = unit.text\n",
    "    base_units[unit_id] = unit_content # Populate dictionary with key (id) and value (content) pairs"
   ]
  },
  {
   "cell_type": "markdown",
   "metadata": {},
   "source": [
    "Parse the RST units."
   ]
  },
  {
   "cell_type": "code",
   "execution_count": 5,
   "metadata": {
    "collapsed": false
   },
   "outputs": [],
   "source": [
    "rst_units = {}\n",
    "\n",
    "for rstunit in rstroot[0]: # [0] to access the nested <segment> element\n",
    "    rstunit_id = rstunit.attrib['id']\n",
    "    rstunit_xref = rstunit.attrib['xref']\n",
    "    rstunit_content = base_units[rstunit_xref]\n",
    "    rst_units[rstunit_id] = rstunit_content"
   ]
  },
  {
   "cell_type": "markdown",
   "metadata": {},
   "source": [
    "Parse the RST spans."
   ]
  },
  {
   "cell_type": "code",
   "execution_count": 6,
   "metadata": {
    "collapsed": false,
    "scrolled": false
   },
   "outputs": [],
   "source": [
    "rst_spans = {}\n",
    "\n",
    "for span in rstroot[1]: # [1] to access the nested <rst-structure> element\n",
    "    span_id = span.attrib['id']\n",
    " \n",
    "    if 'multi-span' in span.tag: # Find multinuclear spans\n",
    "        span_type = 'multinuclear'\n",
    "    elif 'span' in span.tag: # Find mononuclear spans \n",
    "        span_type = 'mononuclear'\n",
    "    if span_type == 'multinuclear':\n",
    "        span_n = span.attrib['nuclei']\n",
    "        span_s = 'None'\n",
    "    if span_type == 'mononuclear':\n",
    "        span_n = span.attrib['nucleus']\n",
    "        span_s = span.attrib['satellites']\n",
    "    span_relation = span.attrib['relation']\n",
    "    rst_spans[span_id] = span_type, span_relation, span_n, span_s\n",
    "    \n",
    "### TO DO: The title segment's broken    \n",
    "    \n",
    "    for t in span.iter('title'): # Find title spans\n",
    "        title_id = span.attrib['id']\n",
    "        title_xref = t.attrib['xref']\n",
    "        rst_spans[title_id] = 'title', 'title', title_xref, 'None'"
   ]
  },
  {
   "cell_type": "markdown",
   "metadata": {},
   "source": [
    "<img src=\"title_broken.png\">"
   ]
  },
  {
   "cell_type": "markdown",
   "metadata": {},
   "source": [
    "## 2. Draw a graph of RST relations"
   ]
  },
  {
   "cell_type": "markdown",
   "metadata": {},
   "source": [
    "Set up a directed graph."
   ]
  },
  {
   "cell_type": "code",
   "execution_count": 7,
   "metadata": {
    "collapsed": true
   },
   "outputs": [],
   "source": [
    "rst_graph = pgv.AGraph(strict = False)\n",
    "rst_graph.layout()"
   ]
  },
  {
   "cell_type": "code",
   "execution_count": 8,
   "metadata": {
    "collapsed": false
   },
   "outputs": [],
   "source": [
    "for key, value in rst_spans.iteritems():\n",
    "    rst_graph.add_node(key) # Add relation nodes\n",
    "    \n",
    "    if value[0] == 'mononuclear':\n",
    "        nucleus = value[2].split()\n",
    "        satellites = value[3].split()\n",
    "        for n in nucleus:\n",
    "            rst_graph.add_edge(key, n)\n",
    "        for s in satellites:\n",
    "            rst_graph.add_edge(key, s)\n",
    "    if value[0] == 'multinuclear':\n",
    "        nuclei = value[2].split()\n",
    "        for n in nuclei:\n",
    "            rst_graph.add_edge(key, n)\n",
    "    if value[0] == 'title':\n",
    "        title = value[2].split()\n",
    "        for t in title:\n",
    "            rst_graph.add_edge(key, t)"
   ]
  },
  {
   "cell_type": "code",
   "execution_count": 9,
   "metadata": {
    "collapsed": true
   },
   "outputs": [],
   "source": [
    "rst_graph.draw(\"test.png\", format = \"png\", prog = \"dot\")"
   ]
  },
  {
   "cell_type": "markdown",
   "metadata": {},
   "source": [
    "<img src=\"test.png\">"
   ]
  }
 ],
 "metadata": {
  "kernelspec": {
   "display_name": "Python 2",
   "language": "python",
   "name": "python2"
  },
  "language_info": {
   "codemirror_mode": {
    "name": "ipython",
    "version": 2
   },
   "file_extension": ".py",
   "mimetype": "text/x-python",
   "name": "python",
   "nbconvert_exporter": "python",
   "pygments_lexer": "ipython2",
   "version": "2.7.10"
  }
 },
 "nbformat": 4,
 "nbformat_minor": 0
}
