{
 "cells": [
  {
   "cell_type": "markdown",
   "metadata": {},
   "source": [
    "# Visualizing layout structures in GeM corpora\n",
    "\n",
    "This Jupyter notebook is intended for visualizing the hierarchical organization of multimodal documents, as proposed in the <a href=\"http://www.fb10.uni-bremen.de/anglistik/langpro/projects/gem/newframe.html\">Genre and Multimodality</a> model.\n",
    "\n",
    "For visualizing the layout structures, you need a valid XML file for the layout layer.\n",
    "\n",
    "To do so, the notebook adopts the solution proposed in Hiippala (2013, 2015).\n",
    "\n",
    "**References**\n",
    "\n",
    "Hiippala, T. (2013) *Modelling the structure of a multimodal artefact*. PhD thesis, University of\n",
    "Helsinki. https://helda.helsinki.fi/handle/10138/41736\n",
    "\n",
    "Hiippala, T. (2015) *The Structure of Multimodal Documents: An Empirical Approach*. New York and London: Routledge."
   ]
  },
  {
   "cell_type": "markdown",
   "metadata": {},
   "source": [
    "## 1. Import the necessary packages."
   ]
  },
  {
   "cell_type": "code",
   "execution_count": null,
   "metadata": {
    "collapsed": true
   },
   "outputs": [],
   "source": [
    "# For parsing XML\n",
    "from lxml import etree as et\n",
    "\n",
    "# For formatting the content\n",
    "import textwrap\n",
    "import codecs\n",
    "\n",
    "# For testing\n",
    "from IPython.display import Image"
   ]
  },
  {
   "cell_type": "markdown",
   "metadata": {},
   "source": [
    "Check GraphViz installation."
   ]
  },
  {
   "cell_type": "code",
   "execution_count": null,
   "metadata": {
    "collapsed": false,
    "scrolled": true
   },
   "outputs": [],
   "source": [
    "graphviz_installed = !which dot\n",
    "if graphviz_installed == '':\n",
    "    print \"Graphviz/DOT not found. Exiting ...\"\n",
    "    quit()\n",
    "else:\n",
    "    print \"\\nGraphviz/DOT found ...\""
   ]
  },
  {
   "cell_type": "markdown",
   "metadata": {},
   "source": [
    "## 2. Parse the GeM XML file."
   ]
  },
  {
   "cell_type": "markdown",
   "metadata": {},
   "source": [
    "Define the layout file below."
   ]
  },
  {
   "cell_type": "code",
   "execution_count": null,
   "metadata": {
    "collapsed": true
   },
   "outputs": [],
   "source": [
    "layoutfile = 'test_xml/2014-fin-annual_report-layout-1.xml' # Layout layer"
   ]
  },
  {
   "cell_type": "markdown",
   "metadata": {},
   "source": [
    "Define a function to parse the XML files."
   ]
  },
  {
   "cell_type": "code",
   "execution_count": null,
   "metadata": {
    "collapsed": false
   },
   "outputs": [],
   "source": [
    "def parse_xml(layoutfile):\n",
    "\n",
    "    layout_root = {} # Set up a dictionary for the layout root\n",
    "    layout_leafs = {} # Set up a dictionary for the layout leafs\n",
    "    layout_chunks = {} # Set up a dictionary for the layout chunks\n",
    "    \n",
    "    layout_xmlroot = et.parse(layoutfile).getroot()\n",
    "        \n",
    "    for root in layout_xmlroot.xpath('.//layout-structure/layout-root'):\n",
    "        layout_root[root.attrib['id']] = '\"' + root.attrib['id'] + '\" [fontcolor=\"black\", fontsize=\"12.0\", shape=\"box\"];\\n'\n",
    "    \n",
    "    if layout_xmlroot.find('.//realization') is not None: # Check if realization information is present\n",
    "        for leaf in layout_xmlroot.xpath('.//layout-structure//layout-leaf'):\n",
    "            leaf_xpath = './/realization/*[contains(@xref, \"' + leaf.attrib['xref'] + '\")]'\n",
    "            for leaf_real in layout_xmlroot.xpath('%s' % leaf_xpath):\n",
    "                if leaf_real.tag == 'text':\n",
    "                    layout_leafs[leaf.attrib['xref']] = '\"' + leaf.attrib['xref'] + '\" [fontcolor=\"black\", fontsize=\"10.0\", shape=\"box\"];\\n'                \n",
    "                if leaf_real.tag == 'graphics':\n",
    "                    layout_leafs[leaf.attrib['xref']] = '\"' + leaf.attrib['xref'] + '\" [fontcolor=\"black\", fontsize=\"10.0\", style=\"filled\", fillcolor=\"burlywood2\", shape=\"box\"];\\n'\n",
    "                else:\n",
    "                    continue\n",
    "    else:\n",
    "        for leaf in layout_xmlroot.xpath('.//layout-structure//layout-leaf'):\n",
    "            layout_leafs[leaf.attrib['xref']] = '\"' + leaf.attrib['xref'] + '\" [fontcolor=\"black\", fontsize=\"10.0\", shape=\"box\"];\\n'\n",
    "        \n",
    "    for chunk in layout_xmlroot.xpath('.//layout-structure//layout-chunk'):\n",
    "        layout_chunks[chunk.attrib['id']] = '\"' + chunk.attrib['id'] + '\" [fontcolor=\"black\", fontsize=\"10.0\", shape=\"box\"];\\n'\n",
    "        \n",
    "    return layout_xmlroot, layout_root, layout_leafs, layout_chunks"
   ]
  },
  {
   "cell_type": "code",
   "execution_count": null,
   "metadata": {
    "collapsed": false
   },
   "outputs": [],
   "source": [
    "layout_xmlroot, layout_root, layout_leafs, layout_chunks = parse_xml(layoutfile)"
   ]
  },
  {
   "cell_type": "markdown",
   "metadata": {},
   "source": [
    "## 3. Draw the layout graph."
   ]
  },
  {
   "cell_type": "markdown",
   "metadata": {},
   "source": [
    "Open a file for the graph; use UTF-8 encoding. Set up the beginning and the end of the graph."
   ]
  },
  {
   "cell_type": "code",
   "execution_count": null,
   "metadata": {
    "collapsed": false
   },
   "outputs": [],
   "source": [
    "graph = codecs.open('layout_graph.gv', 'w', 'utf-8')\n",
    "\n",
    "begin_graph = 'graph \"layout_graph\" { graph [rankdir=\"BT\"];\\n'\n",
    "terminate_graph = '}\\n'"
   ]
  },
  {
   "cell_type": "markdown",
   "metadata": {},
   "source": [
    "Begin writing the graph."
   ]
  },
  {
   "cell_type": "code",
   "execution_count": null,
   "metadata": {
    "collapsed": false
   },
   "outputs": [],
   "source": [
    "# Write DOT graph preamble\n",
    "graph.write(begin_graph)\n",
    "\n",
    "# Add layout root to the graph:\n",
    "for root, root_node in layout_root.items():\n",
    "    graph.write(root_node)\n",
    "\n",
    "# Add layout leafs and their edges to the graph\n",
    "for leaf, leaf_nodes in layout_leafs.items():\n",
    "    graph.write(leaf_nodes)\n",
    "    leaf_parent_xpath = './/layout-structure//layout-leaf[@xref=\"' + leaf + '\"]/../@id'\n",
    "    for leaf_parent in layout_xmlroot.xpath('%s' % leaf_parent_xpath):\n",
    "        l_edge = '\"' + leaf + '\"' + ' -- ' + '\"' + leaf_parent + '\";\\n'\n",
    "        graph.write(l_edge)\n",
    "\n",
    "# Add layout chunks and their edges to the graph\n",
    "for chunk, chunk_nodes in layout_chunks.items():\n",
    "    graph.write(chunk_nodes)\n",
    "    chunk_parent_xpath = './/layout-structure//layout-chunk[@id=\"' + chunk + '\"]/../@id'\n",
    "    for chunk_parent in layout_xmlroot.xpath('%s' % chunk_parent_xpath):\n",
    "        c_edge = '\"' + chunk + '\"' + ' -- ' + '\"' + chunk_parent + '\";\\n'\n",
    "        graph.write(c_edge)\n",
    "\n",
    "# Terminate the graph\n",
    "graph.write(terminate_graph)        "
   ]
  },
  {
   "cell_type": "markdown",
   "metadata": {},
   "source": [
    "Close the graph file."
   ]
  },
  {
   "cell_type": "code",
   "execution_count": null,
   "metadata": {
    "collapsed": true
   },
   "outputs": [],
   "source": [
    "graph.close()"
   ]
  },
  {
   "cell_type": "markdown",
   "metadata": {},
   "source": [
    "Draw the graph using DOT."
   ]
  },
  {
   "cell_type": "code",
   "execution_count": null,
   "metadata": {
    "collapsed": false
   },
   "outputs": [],
   "source": [
    "!dot -Tpng layout_graph.gv > layout_graph.png"
   ]
  },
  {
   "cell_type": "markdown",
   "metadata": {},
   "source": [
    "Show the resulting image in the Jupyter notebook."
   ]
  },
  {
   "cell_type": "code",
   "execution_count": null,
   "metadata": {
    "collapsed": false
   },
   "outputs": [],
   "source": [
    "Image('layout_graph.png')"
   ]
  }
 ],
 "metadata": {
  "kernelspec": {
   "display_name": "Python 2",
   "language": "python",
   "name": "python2"
  },
  "language_info": {
   "codemirror_mode": {
    "name": "ipython",
    "version": 2
   },
   "file_extension": ".py",
   "mimetype": "text/x-python",
   "name": "python",
   "nbconvert_exporter": "python",
   "pygments_lexer": "ipython2",
   "version": "2.7.10"
  }
 },
 "nbformat": 4,
 "nbformat_minor": 0
}
