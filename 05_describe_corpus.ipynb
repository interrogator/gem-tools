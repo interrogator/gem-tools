{
 "cells": [
  {
   "cell_type": "markdown",
   "metadata": {},
   "source": [
    "# Describe GeM corpora\n",
    "\n",
    "This notebook extracts basic statistics from GeM-annotated corpora. "
   ]
  },
  {
   "cell_type": "markdown",
   "metadata": {},
   "source": [
    "## 1. Import the necessary packages."
   ]
  },
  {
   "cell_type": "code",
   "execution_count": null,
   "metadata": {
    "collapsed": true
   },
   "outputs": [],
   "source": [
    "# For parsing XML\n",
    "from lxml import etree as et\n",
    "from collections import Counter\n",
    "import glob\n",
    "import csv"
   ]
  },
  {
   "cell_type": "markdown",
   "metadata": {},
   "source": [
    "## 2. Locate the GeM XML files."
   ]
  },
  {
   "cell_type": "markdown",
   "metadata": {},
   "source": [
    "Enter the directory where the GeM corpus resides below."
   ]
  },
  {
   "cell_type": "code",
   "execution_count": null,
   "metadata": {
    "collapsed": true
   },
   "outputs": [],
   "source": [
    "gem_dir = 'test_xml'"
   ]
  },
  {
   "cell_type": "markdown",
   "metadata": {},
   "source": [
    "Extract GeM identifiers based on filenames in the directory."
   ]
  },
  {
   "cell_type": "code",
   "execution_count": null,
   "metadata": {
    "collapsed": false
   },
   "outputs": [],
   "source": [
    "# Initialize a list of GeM base files.\n",
    "gembase = []\n",
    "\n",
    "# Loop over the files in the GeM corpus directory\n",
    "for f in glob.glob(gem_dir + \"/*.xml\"):\n",
    "    \n",
    "    # If string \"base\" is not found in the filename, the find method returns -1. \n",
    "    # Append files that return a value other than -1 to the list of base units.\n",
    "    if f.find(\"base\") != -1:\n",
    "        gembase.append(f)"
   ]
  },
  {
   "cell_type": "markdown",
   "metadata": {},
   "source": [
    "## 3. Parse GeM annotation"
   ]
  },
  {
   "cell_type": "code",
   "execution_count": null,
   "metadata": {
    "collapsed": false
   },
   "outputs": [],
   "source": [
    "# Initialize a dictionary for storing the statistics\n",
    "corpus = {}\n",
    "\n",
    "# Loop over the base files found in the directory\n",
    "for bf in gembase:\n",
    "    \n",
    "    # Assign base, rst and layout files to variables\n",
    "    basefile, rstfile, layfile = bf, bf.replace(\"base\", \"rst\"), bf.replace(\"base\", \"layout\")\n",
    "    \n",
    "    # Set identifier\n",
    "    identifier = bf.split('/')[1]\n",
    "    \n",
    "    # Print status\n",
    "    print \"Parsing {} ...\".format(basefile)\n",
    "    \n",
    "    # BASE LAYER\n",
    "    # ----------\n",
    "    # Parse the base layer file and get XML root\n",
    "    baseroot = et.parse(basefile).getroot()\n",
    "    \n",
    "    # Initialize empty lists for different base unit types\n",
    "    baseunits, visual_units, embedded_units = [], [], []\n",
    "    \n",
    "    # Find all base units\n",
    "    for unit in baseroot.findall('./unit'):\n",
    "        \n",
    "        # Append all base units below the root node to the list of base units\n",
    "        baseunits.append(unit.attrib['id'])\n",
    "        \n",
    "        # Add visual base units to their own list \n",
    "        if 'alt' in unit.attrib:\n",
    "            visual_units.append(unit.attrib['id'])\n",
    "            \n",
    "        # Check whether the base units have children\n",
    "        if unit.getchildren():\n",
    "            # Loop over the possible children\n",
    "            for em_unit in unit.getchildren():\n",
    "                # Add visual base units to their own list\n",
    "                if 'alt' in em_unit.attrib:\n",
    "                    visual_units.append(em_unit.attrib['id'])\n",
    "                # Add embedded base units to their own list\n",
    "                embedded_units.append(em_unit.attrib['id'])\n",
    "    \n",
    "    # Store the base layer statistics into the corpus dictionary\n",
    "    corpus[identifier] = {'basestats': [len(baseunits), len(visual_units), len(embedded_units)]}\n",
    "    \n",
    "    # RST LAYER\n",
    "    # ---------\n",
    "    # Parse the RST layer file and get XML root\n",
    "    rstroot = et.parse(rstfile).getroot()\n",
    "    \n",
    "    # Initialize empty lists for different types of RST segments\n",
    "    rst_segments, visual_segments = [], []\n",
    "    \n",
    "    # Find all RST segments\n",
    "    for segment in rstroot.findall('./segmentation/*'):\n",
    "        \n",
    "        # Append all RST segments to the list of RST segments\n",
    "        rst_segments.append(segment.attrib['id'])\n",
    "        \n",
    "        # Check if any RST segments cross-reference a visual base unit\n",
    "        if segment.attrib['xref'] in visual_units:\n",
    "            visual_segments.append(segment.attrib['id'])\n",
    "            \n",
    "    # Store the RST layer statistics into the corpus dictionary\n",
    "    corpus[identifier].update({'rst_stats': [len(rst_segments), len(visual_segments)]})\n",
    "    \n",
    "    # Initialize empty lists and dictionaries for RST spans and structures\n",
    "    relations, monospans, multispans, minispans, rst_structures = [], [], [], [], {}\n",
    "    \n",
    "    # Loop over each RST structure\n",
    "    for number, structure in enumerate(rstroot.findall('.//rst-structure')):\n",
    "                \n",
    "        # Loop over the spans in each structure\n",
    "        for span in structure:\n",
    "            if span.tag == 'span':\n",
    "                monospans.append(span.attrib['id'])\n",
    "                relations.append(span.attrib['relation'])\n",
    "            if span.tag == 'multi-span':\n",
    "                multispans.append(span.attrib['id'])\n",
    "                relations.append(span.attrib['relation'])\n",
    "            if span.tag == 'mini-span':\n",
    "                minispans.append(span.attrib['id'])\n",
    "                relations.append(span.attrib['relation'])\n",
    "        \n",
    "        # Append stats for each RST structures into a list\n",
    "        rst_structures['rst_structure_' + str(number + 1)] = {'monospans': len(monospans), 'multispans': len(multispans), 'minispans': len(minispans)}\n",
    "        \n",
    "    corpus[identifier].update({'rst_structures': rst_structures, 'rst_relations': Counter(relations).most_common()})\n",
    "    \n",
    "    # LAYOUT LAYER\n",
    "    # ------------\n",
    "    # Parse the layout layer file and get XML root\n",
    "    layroot = et.parse(layfile).getroot()\n",
    "    \n",
    "    # Initialize empty lists for layout description\n",
    "    layout_units, embedded_layout_units = [], []\n",
    "    \n",
    "    # Find all layout units\n",
    "    for layunit in layroot.findall('./segmentation/*'):\n",
    "        \n",
    "        # Append all layout units to the list of layout units\n",
    "        layout_units.append(layunit.attrib['xref'])\n",
    "        \n",
    "        # Check whether the layout units have children\n",
    "        if layunit.getchildren():\n",
    "            # Loop over the possible children\n",
    "            for em_lunit in layunit.getchildren():\n",
    "                # Add embedded base units to their own list\n",
    "                embedded_layout_units.append(em_lunit.attrib['id'])\n",
    "                \n",
    "    corpus[identifier].update({'layout_segmentation': [len(layout_units), len(embedded_layout_units)]})"
   ]
  },
  {
   "cell_type": "markdown",
   "metadata": {
    "collapsed": false
   },
   "source": [
    "## 4. Write data to a CSV file"
   ]
  },
  {
   "cell_type": "code",
   "execution_count": null,
   "metadata": {
    "collapsed": false
   },
   "outputs": [],
   "source": [
    "# Open csv file\n",
    "with open('stats.csv', 'wb') as csvfile:\n",
    "    writer = csv.writer(csvfile, delimiter='\\t')\n",
    "    # Write header row\n",
    "    writer.writerow([' '] + ['Base units'] + ['Visual base units'] + ['Embedded base units'] + ['Layout units'] + ['Embedded layout units'] + ['RST segments'] + ['Visual RST segments'] + ['Unique RST relations'] + ['RST structures'])\n",
    "    # Read values from dict\n",
    "    for key, value in corpus.items():\n",
    "        writer.writerow([key] + [value[\"basestats\"][0]] + [value[\"basestats\"][1]] + [value[\"basestats\"][2]] + [value[\"layout_segmentation\"][0]] + [value[\"layout_segmentation\"][1]] + [value[\"rst_stats\"][0]] + [value[\"rst_stats\"][1]] + [len(value[\"rst_relations\"])] + [len(value[\"rst_structures\"])])\n",
    "\n",
    "# Close csv file\n",
    "csvfile.close()\n",
    "print \"Wrote stats into stats.csv ...\""
   ]
  },
  {
   "cell_type": "markdown",
   "metadata": {
    "collapsed": true
   },
   "source": [
    "## 5. Print RST stats"
   ]
  },
  {
   "cell_type": "code",
   "execution_count": null,
   "metadata": {
    "collapsed": false
   },
   "outputs": [],
   "source": [
    "for key, value in corpus.items():\n",
    "    print 'Filename:', key, '\\n', \"*** START ***\"\n",
    "    for v in value[\"rst_relations\"]:\n",
    "        print v[0], v[1]\n",
    "    print \"*** END ***\""
   ]
  }
 ],
 "metadata": {
  "kernelspec": {
   "display_name": "Python 2",
   "language": "python",
   "name": "python2"
  },
  "language_info": {
   "codemirror_mode": {
    "name": "ipython",
    "version": 2
   },
   "file_extension": ".py",
   "mimetype": "text/x-python",
   "name": "python",
   "nbconvert_exporter": "python",
   "pygments_lexer": "ipython2",
   "version": "2.7.11"
  }
 },
 "nbformat": 4,
 "nbformat_minor": 0
}
